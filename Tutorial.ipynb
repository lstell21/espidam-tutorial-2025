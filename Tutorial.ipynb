{
 "cells": [
  {
   "cell_type": "markdown",
   "id": "ba32e74e-fb64-4ec9-a855-1c28444866b0",
   "metadata": {},
   "source": [
    "## *Tutorial for the ESPIDAM Practical*"
   ]
  },
  {
   "cell_type": "markdown",
   "id": "44ae1998-06fc-45de-ab84-931ab598a431",
   "metadata": {},
   "source": [
    "The aim of this tutorial is to investigate what the influence of network structure is on the spread of an epidemic. We will look at various types of networks and an agent based SIR model running on these networks. We will compare network structure in terms of degree distribution and centrality measures. Epidemic outcome will be measured as final size, duration, and peak prevalence of the outbreak."
   ]
  },
  {
   "cell_type": "markdown",
   "id": "5eefae52-126a-4d5c-a299-51be9fdffcc3",
   "metadata": {},
   "source": [
    "First we need to set up a directory structure to store data, output, and figures."
   ]
  },
  {
   "cell_type": "code",
   "execution_count": 3,
   "id": "b6d7476e-b269-4431-8ae8-59e7c13c9587",
   "metadata": {},
   "outputs": [],
   "source": [
    "#Navigate to the directory containing this file\n",
    "    cd(@__DIR__)\n",
    "\n",
    "# Create directories if they don't exist\n",
    "    if !isdir(\"data\")\n",
    "        mkdir(\"data\")\n",
    "    end\n",
    "    if !isdir(\"figures\")\n",
    "        mkdir(\"figures\")\n",
    "    end\n",
    "    if !isdir(\"output\")\n",
    "        mkdir(\"output\")\n",
    "    end"
   ]
  },
  {
   "cell_type": "markdown",
   "id": "8cacc183-5149-4cc9-a40a-ae9a1e6ddfd2",
   "metadata": {},
   "source": [
    "Then we activate the current directory as the environment for Pkg. We import the packages we will need to run the model. This will take some time."
   ]
  },
  {
   "cell_type": "code",
   "execution_count": 4,
   "id": "1f8c4f71-4999-4893-9bf4-edc6ff1159b5",
   "metadata": {},
   "outputs": [
    {
     "name": "stderr",
     "output_type": "stream",
     "text": [
      "\u001b[32m\u001b[1m  Activating\u001b[22m\u001b[39m project at `c:\\Users\\leost\\julia-workspace\\espidam-tutorial-2025`\n"
     ]
    }
   ],
   "source": [
    " # Import the Pkg module, activate the current directory as the environment for Pkg, instantiate the environment\n",
    "    using Pkg\n",
    "    Pkg.activate(@__DIR__)\n",
    "    Pkg.instantiate()\n",
    "\n",
    "  # Import the necessary packages\n",
    "    using Agents, Graphs, Random, Plots, DataFrames, CSV, Statistics, Distributions"
   ]
  },
  {
   "cell_type": "markdown",
   "id": "9fc6dcff-3a02-491f-9002-5e49e388c5e2",
   "metadata": {},
   "source": [
    "A degree distribution to be used with the configuration model is read from a csv file. The file needs to have a number of rows that equals the population size of the network. For every node an integer degree is given. "
   ]
  },
  {
   "cell_type": "code",
   "execution_count": 5,
   "id": "a2bc52fb-b0a6-4221-a9ea-2605c8769123",
   "metadata": {},
   "outputs": [
    {
     "data": {
      "text/html": [
       "<div><div style = \"float: left;\"><span>1000×1 DataFrame</span></div><div style = \"float: right;\"><span style = \"font-style: italic;\">975 rows omitted</span></div><div style = \"clear: both;\"></div></div><div class = \"data-frame\" style = \"overflow-x: scroll;\"><table class = \"data-frame\" style = \"margin-bottom: 6px;\"><thead><tr class = \"header\"><th class = \"rowNumber\" style = \"font-weight: bold; text-align: right;\">Row</th><th style = \"text-align: left;\">Column1</th></tr><tr class = \"subheader headerLastRow\"><th class = \"rowNumber\" style = \"font-weight: bold; text-align: right;\"></th><th title = \"Int64\" style = \"text-align: left;\">Int64</th></tr></thead><tbody><tr><td class = \"rowNumber\" style = \"font-weight: bold; text-align: right;\">1</td><td style = \"text-align: right;\">6</td></tr><tr><td class = \"rowNumber\" style = \"font-weight: bold; text-align: right;\">2</td><td style = \"text-align: right;\">16</td></tr><tr><td class = \"rowNumber\" style = \"font-weight: bold; text-align: right;\">3</td><td style = \"text-align: right;\">9</td></tr><tr><td class = \"rowNumber\" style = \"font-weight: bold; text-align: right;\">4</td><td style = \"text-align: right;\">5</td></tr><tr><td class = \"rowNumber\" style = \"font-weight: bold; text-align: right;\">5</td><td style = \"text-align: right;\">3</td></tr><tr><td class = \"rowNumber\" style = \"font-weight: bold; text-align: right;\">6</td><td style = \"text-align: right;\">5</td></tr><tr><td class = \"rowNumber\" style = \"font-weight: bold; text-align: right;\">7</td><td style = \"text-align: right;\">3</td></tr><tr><td class = \"rowNumber\" style = \"font-weight: bold; text-align: right;\">8</td><td style = \"text-align: right;\">5</td></tr><tr><td class = \"rowNumber\" style = \"font-weight: bold; text-align: right;\">9</td><td style = \"text-align: right;\">3</td></tr><tr><td class = \"rowNumber\" style = \"font-weight: bold; text-align: right;\">10</td><td style = \"text-align: right;\">9</td></tr><tr><td class = \"rowNumber\" style = \"font-weight: bold; text-align: right;\">11</td><td style = \"text-align: right;\">7</td></tr><tr><td class = \"rowNumber\" style = \"font-weight: bold; text-align: right;\">12</td><td style = \"text-align: right;\">1</td></tr><tr><td class = \"rowNumber\" style = \"font-weight: bold; text-align: right;\">13</td><td style = \"text-align: right;\">5</td></tr><tr><td style = \"text-align: right;\">&vellip;</td><td style = \"text-align: right;\">&vellip;</td></tr><tr><td class = \"rowNumber\" style = \"font-weight: bold; text-align: right;\">989</td><td style = \"text-align: right;\">5</td></tr><tr><td class = \"rowNumber\" style = \"font-weight: bold; text-align: right;\">990</td><td style = \"text-align: right;\">7</td></tr><tr><td class = \"rowNumber\" style = \"font-weight: bold; text-align: right;\">991</td><td style = \"text-align: right;\">5</td></tr><tr><td class = \"rowNumber\" style = \"font-weight: bold; text-align: right;\">992</td><td style = \"text-align: right;\">7</td></tr><tr><td class = \"rowNumber\" style = \"font-weight: bold; text-align: right;\">993</td><td style = \"text-align: right;\">3</td></tr><tr><td class = \"rowNumber\" style = \"font-weight: bold; text-align: right;\">994</td><td style = \"text-align: right;\">7</td></tr><tr><td class = \"rowNumber\" style = \"font-weight: bold; text-align: right;\">995</td><td style = \"text-align: right;\">17</td></tr><tr><td class = \"rowNumber\" style = \"font-weight: bold; text-align: right;\">996</td><td style = \"text-align: right;\">12</td></tr><tr><td class = \"rowNumber\" style = \"font-weight: bold; text-align: right;\">997</td><td style = \"text-align: right;\">6</td></tr><tr><td class = \"rowNumber\" style = \"font-weight: bold; text-align: right;\">998</td><td style = \"text-align: right;\">8</td></tr><tr><td class = \"rowNumber\" style = \"font-weight: bold; text-align: right;\">999</td><td style = \"text-align: right;\">12</td></tr><tr><td class = \"rowNumber\" style = \"font-weight: bold; text-align: right;\">1000</td><td style = \"text-align: right;\">2</td></tr></tbody></table></div>"
      ],
      "text/latex": [
       "\\begin{tabular}{r|c}\n",
       "\t& Column1\\\\\n",
       "\t\\hline\n",
       "\t& Int64\\\\\n",
       "\t\\hline\n",
       "\t1 & 6 \\\\\n",
       "\t2 & 16 \\\\\n",
       "\t3 & 9 \\\\\n",
       "\t4 & 5 \\\\\n",
       "\t5 & 3 \\\\\n",
       "\t6 & 5 \\\\\n",
       "\t7 & 3 \\\\\n",
       "\t8 & 5 \\\\\n",
       "\t9 & 3 \\\\\n",
       "\t10 & 9 \\\\\n",
       "\t11 & 7 \\\\\n",
       "\t12 & 1 \\\\\n",
       "\t13 & 5 \\\\\n",
       "\t14 & 9 \\\\\n",
       "\t15 & 13 \\\\\n",
       "\t16 & 24 \\\\\n",
       "\t17 & 12 \\\\\n",
       "\t18 & 10 \\\\\n",
       "\t19 & 17 \\\\\n",
       "\t20 & 5 \\\\\n",
       "\t21 & 1 \\\\\n",
       "\t22 & 14 \\\\\n",
       "\t23 & 3 \\\\\n",
       "\t24 & 8 \\\\\n",
       "\t$\\dots$ & $\\dots$ \\\\\n",
       "\\end{tabular}\n"
      ],
      "text/plain": [
       "\u001b[1m1000×1 DataFrame\u001b[0m\n",
       "\u001b[1m  Row \u001b[0m│\u001b[1m Column1 \u001b[0m\n",
       "      │\u001b[90m Int64   \u001b[0m\n",
       "──────┼─────────\n",
       "    1 │       6\n",
       "    2 │      16\n",
       "    3 │       9\n",
       "    4 │       5\n",
       "    5 │       3\n",
       "    6 │       5\n",
       "    7 │       3\n",
       "    8 │       5\n",
       "  ⋮   │    ⋮\n",
       "  994 │       7\n",
       "  995 │      17\n",
       "  996 │      12\n",
       "  997 │       6\n",
       "  998 │       8\n",
       "  999 │      12\n",
       " 1000 │       2\n",
       "\u001b[36m985 rows omitted\u001b[0m"
      ]
     },
     "metadata": {},
     "output_type": "display_data"
    }
   ],
   "source": [
    " \n",
    "    # Read in deg_dist.csv to use for the random_configuration_model\n",
    "    degrees = CSV.read(\"deg_dist.csv\", DataFrame, header=false)"
   ]
  },
  {
   "cell_type": "markdown",
   "id": "c4df6ed7-df5d-4e35-afd6-e13b38364b31",
   "metadata": {},
   "source": [
    "Next, the model is defined. The code is provided in various source files that are included. In the source file create_graph.jl a network is set up with a given number of nodes (default size 1000) and a given network structure. Then the structure of the agents is defined. An agent is characterized by its infection status (susceptible, infected, or recovered), by its infection age (time since infection), and by risk category (low or high). The source file initialize.jl describes the initialization procedure of the model, and the agent_step.jl describes events that are performed per time step. Then, in model_step! the numbers of individuals in disease states are summed up."
   ]
  },
  {
   "cell_type": "code",
   "execution_count": 6,
   "id": "2278c002-965a-4d9c-a381-8b2a7c267c5e",
   "metadata": {},
   "outputs": [
    {
     "data": {
      "text/plain": [
       "model_step! (generic function with 1 method)"
      ]
     },
     "metadata": {},
     "output_type": "display_data"
    }
   ],
   "source": [
    "\n",
    "include(\"src/create_graph.jl\")\n",
    "\n",
    "# Agent creation: agents of type Person and properties status, days_infected and risk\n",
    "@agent struct Person(GraphAgent)\n",
    "    status::Symbol = :S #((S)usceptible, (I)nfected, (R)ecovered)\n",
    "    days_infected::Int = 0 # number of days since infection\n",
    "    risk::Symbol = :high # something to differentiate agents (here, high and low risk)\n",
    "end\n",
    "\n",
    "include(\"src/initialize.jl\")\n",
    "include(\"src/agent_step.jl\")\n",
    "\n",
    "# Model step: keep track of the infection numbers\n",
    "function model_step!(model::ABM)\n",
    "    model.susceptible_count = sum([model[i].status == :S for i in 1:nv(model.graph)])\n",
    "    model.infected_count = sum([model[i].status == :I for i in 1:nv(model.graph)])\n",
    "    model.recovered_count = sum([model[i].status == :R for i in 1:nv(model.graph)])\n",
    "end"
   ]
  },
  {
   "cell_type": "markdown",
   "id": "35e48f74-b5eb-4924-bb8b-87a45a41fc9f",
   "metadata": {},
   "source": [
    "Now let's start with setting up the model for our investigation. In the initialization function, we can choose what network type we want to use, where in the network the infection is seeded, what proportion of the population is high risk, and what the mean degree of the network is."
   ]
  },
  {
   "cell_type": "code",
   "execution_count": 7,
   "id": "a3de80d0-2bf7-41c3-bf47-b585ae639a62",
   "metadata": {},
   "outputs": [
    {
     "data": {
      "text/plain": [
       "StandardABM with 1000 agents of type Person\n",
       " agents container: Dict\n",
       " space: GraphSpace with 1000 positions and 1040 edges\n",
       " scheduler: fastest\n",
       " properties: days_to_recovered, trans_prob, mean_degree, high_risk, susceptible_count, fraction_high_risk, infected_count, recovered_count, graph, dispersion, n_nodes, patient_zero, network_type"
      ]
     },
     "metadata": {},
     "output_type": "display_data"
    }
   ],
   "source": [
    "# Initialization: initialize the model with the chosen parameters: network_type, patient_zero, high_risk, mean_degree\n",
    "model = initialize(; network_type=:random, patient_zero=:random, mean_degree=2)"
   ]
  },
  {
   "cell_type": "markdown",
   "id": "8ef944d2",
   "metadata": {},
   "source": [
    "## Network Analysis\n",
    "\n",
    "The constructed network can be analyzed using our `analyze_graph` function, which returns a comprehensive set of network metrics. The function calculates:\n",
    "\n",
    "- **Basic metrics**: density, mean degree, clustering coefficient, assortativity\n",
    "- **Component analysis**: number and sizes of connected components\n",
    "- **Centrality measures**: degree, betweenness, closeness, and eigenvector centrality\n",
    "- **Structural properties**: degree distribution, maximal cliques, diameter\n",
    "\n",
    "The results are organized in a dictionary with easily accessible components for further analysis and visualization."
   ]
  },
  {
   "cell_type": "code",
   "execution_count": 10,
   "id": "22293955-eac6-44cf-9b6a-f05d0005d6de",
   "metadata": {},
   "outputs": [
    {
     "data": {
      "text/plain": [
       "\"Graph Summary Metrics\""
      ]
     },
     "metadata": {},
     "output_type": "display_data"
    },
    {
     "data": {
      "text/html": [
       "<div><div style = \"float: left;\"><span>7×2 DataFrame</span></div><div style = \"clear: both;\"></div></div><div class = \"data-frame\" style = \"overflow-x: scroll;\"><table class = \"data-frame\" style = \"margin-bottom: 6px;\"><thead><tr class = \"header\"><th class = \"rowNumber\" style = \"font-weight: bold; text-align: right;\">Row</th><th style = \"text-align: left;\">metric</th><th style = \"text-align: left;\">value</th></tr><tr class = \"subheader headerLastRow\"><th class = \"rowNumber\" style = \"font-weight: bold; text-align: right;\"></th><th title = \"String\" style = \"text-align: left;\">String</th><th title = \"Any\" style = \"text-align: left;\">Any</th></tr></thead><tbody><tr><td class = \"rowNumber\" style = \"font-weight: bold; text-align: right;\">1</td><td style = \"text-align: left;\">Mean Degree</td><td style = \"text-align: left;\">2.08</td></tr><tr><td class = \"rowNumber\" style = \"font-weight: bold; text-align: right;\">2</td><td style = \"text-align: left;\">Density</td><td style = \"text-align: left;\">0.00208208</td></tr><tr><td class = \"rowNumber\" style = \"font-weight: bold; text-align: right;\">3</td><td style = \"text-align: left;\">Clustering Coefficient</td><td style = \"text-align: left;\">0.00140581</td></tr><tr><td class = \"rowNumber\" style = \"font-weight: bold; text-align: right;\">4</td><td style = \"text-align: left;\">Assortativity</td><td style = \"text-align: left;\">0.0084577</td></tr><tr><td class = \"rowNumber\" style = \"font-weight: bold; text-align: right;\">5</td><td style = \"text-align: left;\">Diameter</td><td style = \"text-align: left;\">Graph is not connected</td></tr><tr><td class = \"rowNumber\" style = \"font-weight: bold; text-align: right;\">6</td><td style = \"text-align: left;\">Number of Connected Components</td><td style = \"text-align: left;\">138</td></tr><tr><td class = \"rowNumber\" style = \"font-weight: bold; text-align: right;\">7</td><td style = \"text-align: left;\">Max Component Length</td><td style = \"text-align: left;\">825</td></tr></tbody></table></div>"
      ],
      "text/latex": [
       "\\begin{tabular}{r|cc}\n",
       "\t& metric & value\\\\\n",
       "\t\\hline\n",
       "\t& String & Any\\\\\n",
       "\t\\hline\n",
       "\t1 & Mean Degree & 2.08 \\\\\n",
       "\t2 & Density & 0.00208208 \\\\\n",
       "\t3 & Clustering Coefficient & 0.00140581 \\\\\n",
       "\t4 & Assortativity & 0.0084577 \\\\\n",
       "\t5 & Diameter & Graph is not connected \\\\\n",
       "\t6 & Number of Connected Components & 138 \\\\\n",
       "\t7 & Max Component Length & 825 \\\\\n",
       "\\end{tabular}\n"
      ],
      "text/plain": [
       "\u001b[1m7×2 DataFrame\u001b[0m\n",
       "\u001b[1m Row \u001b[0m│\u001b[1m metric                         \u001b[0m\u001b[1m value                  \u001b[0m\n",
       "     │\u001b[90m String                         \u001b[0m\u001b[90m Any                    \u001b[0m\n",
       "─────┼────────────────────────────────────────────────────────\n",
       "   1 │ Mean Degree                     2.08\n",
       "   2 │ Density                         0.00208208\n",
       "   3 │ Clustering Coefficient          0.00140581\n",
       "   4 │ Assortativity                   0.0084577\n",
       "   5 │ Diameter                        Graph is not connected\n",
       "   6 │ Number of Connected Components  138\n",
       "   7 │ Max Component Length            825"
      ]
     },
     "metadata": {},
     "output_type": "display_data"
    },
    {
     "data": {
      "text/plain": [
       "\"Centrality Measures Statistics\""
      ]
     },
     "metadata": {},
     "output_type": "display_data"
    },
    {
     "data": {
      "text/html": [
       "<div><div style = \"float: left;\"><span>5×7 DataFrame</span></div><div style = \"clear: both;\"></div></div><div class = \"data-frame\" style = \"overflow-x: scroll;\"><table class = \"data-frame\" style = \"margin-bottom: 6px;\"><thead><tr class = \"header\"><th class = \"rowNumber\" style = \"font-weight: bold; text-align: right;\">Row</th><th style = \"text-align: left;\">variable</th><th style = \"text-align: left;\">mean</th><th style = \"text-align: left;\">min</th><th style = \"text-align: left;\">median</th><th style = \"text-align: left;\">max</th><th style = \"text-align: left;\">nmissing</th><th style = \"text-align: left;\">eltype</th></tr><tr class = \"subheader headerLastRow\"><th class = \"rowNumber\" style = \"font-weight: bold; text-align: right;\"></th><th title = \"Symbol\" style = \"text-align: left;\">Symbol</th><th title = \"Float64\" style = \"text-align: left;\">Float64</th><th title = \"Real\" style = \"text-align: left;\">Real</th><th title = \"Float64\" style = \"text-align: left;\">Float64</th><th title = \"Real\" style = \"text-align: left;\">Real</th><th title = \"Int64\" style = \"text-align: left;\">Int64</th><th title = \"DataType\" style = \"text-align: left;\">DataType</th></tr></thead><tbody><tr><td class = \"rowNumber\" style = \"font-weight: bold; text-align: right;\">1</td><td style = \"text-align: left;\">degree</td><td style = \"text-align: right;\">2.08</td><td style = \"text-align: right;\">0</td><td style = \"text-align: right;\">2.0</td><td style = \"text-align: right;\">7</td><td style = \"text-align: right;\">0</td><td style = \"text-align: left;\">Int64</td></tr><tr><td class = \"rowNumber\" style = \"font-weight: bold; text-align: right;\">2</td><td style = \"text-align: left;\">degree_centrality</td><td style = \"text-align: right;\">0.00208208</td><td style = \"text-align: right;\">0.0</td><td style = \"text-align: right;\">0.002002</td><td style = \"text-align: right;\">0.00700701</td><td style = \"text-align: right;\">0</td><td style = \"text-align: left;\">Float64</td></tr><tr><td class = \"rowNumber\" style = \"font-weight: bold; text-align: right;\">3</td><td style = \"text-align: left;\">betweenness_centrality</td><td style = \"text-align: right;\">0.0052449</td><td style = \"text-align: right;\">0.0</td><td style = \"text-align: right;\">0.00179664</td><td style = \"text-align: right;\">0.0763448</td><td style = \"text-align: right;\">0</td><td style = \"text-align: left;\">Float64</td></tr><tr><td class = \"rowNumber\" style = \"font-weight: bold; text-align: right;\">4</td><td style = \"text-align: left;\">closeness_centrality</td><td style = \"text-align: right;\">0.0799337</td><td style = \"text-align: right;\">0.0</td><td style = \"text-align: right;\">0.0946134</td><td style = \"text-align: right;\">0.132306</td><td style = \"text-align: right;\">0</td><td style = \"text-align: left;\">Float64</td></tr><tr><td class = \"rowNumber\" style = \"font-weight: bold; text-align: right;\">5</td><td style = \"text-align: left;\">eigenvector_centrality</td><td style = \"text-align: right;\">0.0147322</td><td style = \"text-align: right;\">4.92792e-14</td><td style = \"text-align: right;\">0.00536783</td><td style = \"text-align: right;\">0.387516</td><td style = \"text-align: right;\">0</td><td style = \"text-align: left;\">Float64</td></tr></tbody></table></div>"
      ],
      "text/latex": [
       "\\begin{tabular}{r|ccccccc}\n",
       "\t& variable & mean & min & median & max & nmissing & \\\\\n",
       "\t\\hline\n",
       "\t& Symbol & Float64 & Real & Float64 & Real & Int64 & \\\\\n",
       "\t\\hline\n",
       "\t1 & degree & 2.08 & 0 & 2.0 & 7 & 0 & $\\dots$ \\\\\n",
       "\t2 & degree\\_centrality & 0.00208208 & 0.0 & 0.002002 & 0.00700701 & 0 & $\\dots$ \\\\\n",
       "\t3 & betweenness\\_centrality & 0.0052449 & 0.0 & 0.00179664 & 0.0763448 & 0 & $\\dots$ \\\\\n",
       "\t4 & closeness\\_centrality & 0.0799337 & 0.0 & 0.0946134 & 0.132306 & 0 & $\\dots$ \\\\\n",
       "\t5 & eigenvector\\_centrality & 0.0147322 & 4.92792e-14 & 0.00536783 & 0.387516 & 0 & $\\dots$ \\\\\n",
       "\\end{tabular}\n"
      ],
      "text/plain": [
       "\u001b[1m5×7 DataFrame\u001b[0m\n",
       "\u001b[1m Row \u001b[0m│\u001b[1m variable               \u001b[0m\u001b[1m mean       \u001b[0m\u001b[1m min         \u001b[0m\u001b[1m median     \u001b[0m\u001b[1m max       \u001b[0m ⋯\n",
       "     │\u001b[90m Symbol                 \u001b[0m\u001b[90m Float64    \u001b[0m\u001b[90m Real        \u001b[0m\u001b[90m Float64    \u001b[0m\u001b[90m Real      \u001b[0m ⋯\n",
       "─────┼──────────────────────────────────────────────────────────────────────────\n",
       "   1 │ degree                  2.08        0            2.0         7          ⋯\n",
       "   2 │ degree_centrality       0.00208208  0.0          0.002002    0.00700701\n",
       "   3 │ betweenness_centrality  0.0052449   0.0          0.00179664  0.0763448\n",
       "   4 │ closeness_centrality    0.0799337   0.0          0.0946134   0.132306\n",
       "   5 │ eigenvector_centrality  0.0147322   4.92792e-14  0.00536783  0.387516   ⋯\n",
       "\u001b[36m                                                               2 columns omitted\u001b[0m"
      ]
     },
     "metadata": {},
     "output_type": "display_data"
    },
    {
     "data": {
      "text/plain": [
       "\"Degree Distribution Information\""
      ]
     },
     "metadata": {},
     "output_type": "display_data"
    },
    {
     "data": {
      "text/html": [
       "<div><div style = \"float: left;\"><span>4×2 DataFrame</span></div><div style = \"clear: both;\"></div></div><div class = \"data-frame\" style = \"overflow-x: scroll;\"><table class = \"data-frame\" style = \"margin-bottom: 6px;\"><thead><tr class = \"header\"><th class = \"rowNumber\" style = \"font-weight: bold; text-align: right;\">Row</th><th style = \"text-align: left;\">metric</th><th style = \"text-align: left;\">value</th></tr><tr class = \"subheader headerLastRow\"><th class = \"rowNumber\" style = \"font-weight: bold; text-align: right;\"></th><th title = \"String\" style = \"text-align: left;\">String</th><th title = \"Int64\" style = \"text-align: left;\">Int64</th></tr></thead><tbody><tr><td class = \"rowNumber\" style = \"font-weight: bold; text-align: right;\">1</td><td style = \"text-align: left;\">Min Degree</td><td style = \"text-align: right;\">0</td></tr><tr><td class = \"rowNumber\" style = \"font-weight: bold; text-align: right;\">2</td><td style = \"text-align: left;\">Max Degree</td><td style = \"text-align: right;\">7</td></tr><tr><td class = \"rowNumber\" style = \"font-weight: bold; text-align: right;\">3</td><td style = \"text-align: left;\">Most Common Degree</td><td style = \"text-align: right;\">8</td></tr><tr><td class = \"rowNumber\" style = \"font-weight: bold; text-align: right;\">4</td><td style = \"text-align: left;\">Number of Connected Components</td><td style = \"text-align: right;\">138</td></tr></tbody></table></div>"
      ],
      "text/latex": [
       "\\begin{tabular}{r|cc}\n",
       "\t& metric & value\\\\\n",
       "\t\\hline\n",
       "\t& String & Int64\\\\\n",
       "\t\\hline\n",
       "\t1 & Min Degree & 0 \\\\\n",
       "\t2 & Max Degree & 7 \\\\\n",
       "\t3 & Most Common Degree & 8 \\\\\n",
       "\t4 & Number of Connected Components & 138 \\\\\n",
       "\\end{tabular}\n"
      ],
      "text/plain": [
       "\u001b[1m4×2 DataFrame\u001b[0m\n",
       "\u001b[1m Row \u001b[0m│\u001b[1m metric                         \u001b[0m\u001b[1m value \u001b[0m\n",
       "     │\u001b[90m String                         \u001b[0m\u001b[90m Int64 \u001b[0m\n",
       "─────┼───────────────────────────────────────\n",
       "   1 │ Min Degree                          0\n",
       "   2 │ Max Degree                          7\n",
       "   3 │ Most Common Degree                  8\n",
       "   4 │ Number of Connected Components    138"
      ]
     },
     "metadata": {},
     "output_type": "display_data"
    },
    {
     "data": {
      "text/plain": [
       "\"Component Sizes\""
      ]
     },
     "metadata": {},
     "output_type": "display_data"
    },
    {
     "data": {
      "text/html": [
       "<div><div style = \"float: left;\"><span>138×1 DataFrame</span></div><div style = \"float: right;\"><span style = \"font-style: italic;\">113 rows omitted</span></div><div style = \"clear: both;\"></div></div><div class = \"data-frame\" style = \"overflow-x: scroll;\"><table class = \"data-frame\" style = \"margin-bottom: 6px;\"><thead><tr class = \"header\"><th class = \"rowNumber\" style = \"font-weight: bold; text-align: right;\">Row</th><th style = \"text-align: left;\">size</th></tr><tr class = \"subheader headerLastRow\"><th class = \"rowNumber\" style = \"font-weight: bold; text-align: right;\"></th><th title = \"Int64\" style = \"text-align: left;\">Int64</th></tr></thead><tbody><tr><td class = \"rowNumber\" style = \"font-weight: bold; text-align: right;\">1</td><td style = \"text-align: right;\">825</td></tr><tr><td class = \"rowNumber\" style = \"font-weight: bold; text-align: right;\">2</td><td style = \"text-align: right;\">1</td></tr><tr><td class = \"rowNumber\" style = \"font-weight: bold; text-align: right;\">3</td><td style = \"text-align: right;\">1</td></tr><tr><td class = \"rowNumber\" style = \"font-weight: bold; text-align: right;\">4</td><td style = \"text-align: right;\">1</td></tr><tr><td class = \"rowNumber\" style = \"font-weight: bold; text-align: right;\">5</td><td style = \"text-align: right;\">1</td></tr><tr><td class = \"rowNumber\" style = \"font-weight: bold; text-align: right;\">6</td><td style = \"text-align: right;\">1</td></tr><tr><td class = \"rowNumber\" style = \"font-weight: bold; text-align: right;\">7</td><td style = \"text-align: right;\">1</td></tr><tr><td class = \"rowNumber\" style = \"font-weight: bold; text-align: right;\">8</td><td style = \"text-align: right;\">3</td></tr><tr><td class = \"rowNumber\" style = \"font-weight: bold; text-align: right;\">9</td><td style = \"text-align: right;\">1</td></tr><tr><td class = \"rowNumber\" style = \"font-weight: bold; text-align: right;\">10</td><td style = \"text-align: right;\">1</td></tr><tr><td class = \"rowNumber\" style = \"font-weight: bold; text-align: right;\">11</td><td style = \"text-align: right;\">1</td></tr><tr><td class = \"rowNumber\" style = \"font-weight: bold; text-align: right;\">12</td><td style = \"text-align: right;\">1</td></tr><tr><td class = \"rowNumber\" style = \"font-weight: bold; text-align: right;\">13</td><td style = \"text-align: right;\">1</td></tr><tr><td style = \"text-align: right;\">&vellip;</td><td style = \"text-align: right;\">&vellip;</td></tr><tr><td class = \"rowNumber\" style = \"font-weight: bold; text-align: right;\">127</td><td style = \"text-align: right;\">1</td></tr><tr><td class = \"rowNumber\" style = \"font-weight: bold; text-align: right;\">128</td><td style = \"text-align: right;\">1</td></tr><tr><td class = \"rowNumber\" style = \"font-weight: bold; text-align: right;\">129</td><td style = \"text-align: right;\">1</td></tr><tr><td class = \"rowNumber\" style = \"font-weight: bold; text-align: right;\">130</td><td style = \"text-align: right;\">1</td></tr><tr><td class = \"rowNumber\" style = \"font-weight: bold; text-align: right;\">131</td><td style = \"text-align: right;\">1</td></tr><tr><td class = \"rowNumber\" style = \"font-weight: bold; text-align: right;\">132</td><td style = \"text-align: right;\">1</td></tr><tr><td class = \"rowNumber\" style = \"font-weight: bold; text-align: right;\">133</td><td style = \"text-align: right;\">1</td></tr><tr><td class = \"rowNumber\" style = \"font-weight: bold; text-align: right;\">134</td><td style = \"text-align: right;\">1</td></tr><tr><td class = \"rowNumber\" style = \"font-weight: bold; text-align: right;\">135</td><td style = \"text-align: right;\">1</td></tr><tr><td class = \"rowNumber\" style = \"font-weight: bold; text-align: right;\">136</td><td style = \"text-align: right;\">1</td></tr><tr><td class = \"rowNumber\" style = \"font-weight: bold; text-align: right;\">137</td><td style = \"text-align: right;\">1</td></tr><tr><td class = \"rowNumber\" style = \"font-weight: bold; text-align: right;\">138</td><td style = \"text-align: right;\">1</td></tr></tbody></table></div>"
      ],
      "text/latex": [
       "\\begin{tabular}{r|c}\n",
       "\t& size\\\\\n",
       "\t\\hline\n",
       "\t& Int64\\\\\n",
       "\t\\hline\n",
       "\t1 & 825 \\\\\n",
       "\t2 & 1 \\\\\n",
       "\t3 & 1 \\\\\n",
       "\t4 & 1 \\\\\n",
       "\t5 & 1 \\\\\n",
       "\t6 & 1 \\\\\n",
       "\t7 & 1 \\\\\n",
       "\t8 & 3 \\\\\n",
       "\t9 & 1 \\\\\n",
       "\t10 & 1 \\\\\n",
       "\t11 & 1 \\\\\n",
       "\t12 & 1 \\\\\n",
       "\t13 & 1 \\\\\n",
       "\t14 & 2 \\\\\n",
       "\t15 & 1 \\\\\n",
       "\t16 & 1 \\\\\n",
       "\t17 & 1 \\\\\n",
       "\t18 & 1 \\\\\n",
       "\t19 & 1 \\\\\n",
       "\t20 & 1 \\\\\n",
       "\t21 & 1 \\\\\n",
       "\t22 & 1 \\\\\n",
       "\t23 & 2 \\\\\n",
       "\t24 & 1 \\\\\n",
       "\t$\\dots$ & $\\dots$ \\\\\n",
       "\\end{tabular}\n"
      ],
      "text/plain": [
       "\u001b[1m138×1 DataFrame\u001b[0m\n",
       "\u001b[1m Row \u001b[0m│\u001b[1m size  \u001b[0m\n",
       "     │\u001b[90m Int64 \u001b[0m\n",
       "─────┼───────\n",
       "   1 │   825\n",
       "   2 │     1\n",
       "   3 │     1\n",
       "   4 │     1\n",
       "   5 │     1\n",
       "   6 │     1\n",
       "   7 │     1\n",
       "   8 │     3\n",
       "  ⋮  │   ⋮\n",
       " 132 │     1\n",
       " 133 │     1\n",
       " 134 │     1\n",
       " 135 │     1\n",
       " 136 │     1\n",
       " 137 │     1\n",
       " 138 │     1\n",
       "\u001b[36m123 rows omitted\u001b[0m"
      ]
     },
     "metadata": {},
     "output_type": "display_data"
    },
    {
     "data": {
      "text/plain": [
       "\"data/graph_summary_random_mdeg_2.csv\""
      ]
     },
     "metadata": {},
     "output_type": "display_data"
    }
   ],
   "source": [
    "include(\"src/analyze_graph.jl\")\n",
    "\n",
    "# Analyze the graph using our improved function\n",
    "graph_analysis = analyze_graph(model.graph)\n",
    "\n",
    "# Display the analysis results in a notebook-friendly way\n",
    "analysis_display = print_graph_analysis(graph_analysis)\n",
    "\n",
    "# Display each component of the analysis\n",
    "display(\"Graph Summary Metrics\")\n",
    "display(analysis_display.summary)\n",
    "\n",
    "display(\"Centrality Measures Statistics\")\n",
    "display(analysis_display.centrality)\n",
    "\n",
    "display(\"Degree Distribution Information\")\n",
    "display(analysis_display.degree_info)\n",
    "\n",
    "display(\"Component Sizes\")\n",
    "display(analysis_display.component_sizes)\n",
    "\n",
    "# Save the centrality measures to a CSV file for further analysis\n",
    "CSV.write(\"data/centrality_$(model.network_type)_mdeg_$(model.mean_degree).csv\", graph_analysis[\"centrality\"])\n",
    "\n",
    "# Save summary metrics to a CSV file\n",
    "CSV.write(\"data/graph_summary_$(model.network_type)_mdeg_$(model.mean_degree).csv\", graph_analysis[\"summary\"])"
   ]
  },
  {
   "cell_type": "markdown",
   "id": "284a86e9",
   "metadata": {},
   "source": [
    "### Network Visualization and Analysis\n",
    "\n",
    "We can use the results from our network analysis to create visualizations that help us understand the structure of the network. Let's look at the degree distribution and explore how centrality measures relate to epidemic dynamics."
   ]
  },
  {
   "cell_type": "code",
   "execution_count": null,
   "id": "951e5992-73c5-419d-96e5-a834931f95c5",
   "metadata": {},
   "outputs": [
    {
     "data": {
      "image/png": "[encoded data removed]",
      "image/svg+xml": [
       "<?xml version=\"1.0\" encoding=\"utf-8\"?>\n",
       "<svg xmlns=\"http://www.w3.org/2000/svg\" xmlns:xlink=\"http://www.w3.org/1999/xlink\" width=\"600\" height=\"400\" viewBox=\"0 0 2400 1600\">\n",
       "<defs>\n",
       "  <clipPath id=\"clip280\">\n",
       "    <rect x=\"0\" y=\"0\" width=\"2400\" height=\"1600\"/>\n",
       "  </clipPath>\n",
       "</defs>\n",
       "<path clip-path=\"url(#clip280)\" d=\"M0 1600 L2400 1600 L2400 0 L0 0  Z\" fill=\"#ffffff\" fill-rule=\"evenodd\" fill-opacity=\"1\"/>\n",
       "<defs>\n",
       "  <clipPath id=\"clip281\">\n",
       "    <rect x=\"480\" y=\"0\" width=\"1681\" height=\"1600\"/>\n",
       "  </clipPath>\n",
       "</defs>\n",
       "<path clip-path=\"url(#clip280)\" d=\"M234.125 1423.18 L2352.76 1423.18 L2352.76 123.472 L234.125 123.472  Z\" fill=\"#ffffff\" fill-rule=\"evenodd\" fill-opacity=\"1\"/>\n",
       "<defs>\n",
       "  <clipPath id=\"clip282\">\n",
       "    <rect x=\"234\" y=\"123\" width=\"2120\" height=\"1301\"/>\n",
       "  </clipPath>\n",
       "</defs>\n",
       "<polyline clip-path=\"url(#clip282)\" style=\"stroke:#000000; stroke-linecap:round; stroke-linejoin:round; stroke-width:2; stroke-opacity:0.1; fill:none\" points=\"436.362,1423.18 436.362,123.472 \"/>\n",
       "<polyline clip-path=\"url(#clip282)\" style=\"stroke:#000000; stroke-linecap:round; stroke-linejoin:round; stroke-width:2; stroke-opacity:0.1; fill:none\" points=\"864.901,1423.18 864.901,123.472 \"/>\n",
       "<polyline clip-path=\"url(#clip282)\" style=\"stroke:#000000; stroke-linecap:round; stroke-linejoin:round; stroke-width:2; stroke-opacity:0.1; fill:none\" points=\"1293.44,1423.18 1293.44,123.472 \"/>\n",
       "<polyline clip-path=\"url(#clip282)\" style=\"stroke:#000000; stroke-linecap:round; stroke-linejoin:round; stroke-width:2; stroke-opacity:0.1; fill:none\" points=\"1721.98,1423.18 1721.98,123.472 \"/>\n",
       "<polyline clip-path=\"url(#clip282)\" style=\"stroke:#000000; stroke-linecap:round; stroke-linejoin:round; stroke-width:2; stroke-opacity:0.1; fill:none\" points=\"2150.52,1423.18 2150.52,123.472 \"/>\n",
       "<polyline clip-path=\"url(#clip282)\" style=\"stroke:#000000; stroke-linecap:round; stroke-linejoin:round; stroke-width:2; stroke-opacity:0.1; fill:none\" points=\"234.125,1423.18 2352.76,1423.18 \"/>\n",
       "<polyline clip-path=\"url(#clip282)\" style=\"stroke:#000000; stroke-linecap:round; stroke-linejoin:round; stroke-width:2; stroke-opacity:0.1; fill:none\" points=\"234.125,1180.7 2352.76,1180.7 \"/>\n",
       "<polyline clip-path=\"url(#clip282)\" style=\"stroke:#000000; stroke-linecap:round; stroke-linejoin:round; stroke-width:2; stroke-opacity:0.1; fill:none\" points=\"234.125,938.214 2352.76,938.214 \"/>\n",
       "<polyline clip-path=\"url(#clip282)\" style=\"stroke:#000000; stroke-linecap:round; stroke-linejoin:round; stroke-width:2; stroke-opacity:0.1; fill:none\" points=\"234.125,695.731 2352.76,695.731 \"/>\n",
       "<polyline clip-path=\"url(#clip282)\" style=\"stroke:#000000; stroke-linecap:round; stroke-linejoin:round; stroke-width:2; stroke-opacity:0.1; fill:none\" points=\"234.125,453.249 2352.76,453.249 \"/>\n",
       "<polyline clip-path=\"url(#clip282)\" style=\"stroke:#000000; stroke-linecap:round; stroke-linejoin:round; stroke-width:2; stroke-opacity:0.1; fill:none\" points=\"234.125,210.766 2352.76,210.766 \"/>\n",
       "<polyline clip-path=\"url(#clip280)\" style=\"stroke:#000000; stroke-linecap:round; stroke-linejoin:round; stroke-width:4; stroke-opacity:1; fill:none\" points=\"234.125,1423.18 2352.76,1423.18 \"/>\n",
       "<polyline clip-path=\"url(#clip280)\" style=\"stroke:#000000; stroke-linecap:round; stroke-linejoin:round; stroke-width:4; stroke-opacity:1; fill:none\" points=\"436.362,1423.18 436.362,1404.28 \"/>\n",
       "<polyline clip-path=\"url(#clip280)\" style=\"stroke:#000000; stroke-linecap:round; stroke-linejoin:round; stroke-width:4; stroke-opacity:1; fill:none\" points=\"864.901,1423.18 864.901,1404.28 \"/>\n",
       "<polyline clip-path=\"url(#clip280)\" style=\"stroke:#000000; stroke-linecap:round; stroke-linejoin:round; stroke-width:4; stroke-opacity:1; fill:none\" points=\"1293.44,1423.18 1293.44,1404.28 \"/>\n",
       "<polyline clip-path=\"url(#clip280)\" style=\"stroke:#000000; stroke-linecap:round; stroke-linejoin:round; stroke-width:4; stroke-opacity:1; fill:none\" points=\"1721.98,1423.18 1721.98,1404.28 \"/>\n",
       "<polyline clip-path=\"url(#clip280)\" style=\"stroke:#000000; stroke-linecap:round; stroke-linejoin:round; stroke-width:4; stroke-opacity:1; fill:none\" points=\"2150.52,1423.18 2150.52,1404.28 \"/>\n",
       "<path clip-path=\"url(#clip280)\" d=\"M436.362 1454.1 Q432.751 1454.1 430.922 1457.66 Q429.116 1461.2 429.116 1468.33 Q429.116 1475.44 430.922 1479.01 Q432.751 1482.55 436.362 1482.55 Q439.996 1482.55 441.802 1479.01 Q443.63 1475.44 443.63 1468.33 Q443.63 1461.2 441.802 1457.66 Q439.996 1454.1 436.362 1454.1 M436.362 1450.39 Q442.172 1450.39 445.227 1455 Q448.306 1459.58 448.306 1468.33 Q448.306 1477.06 445.227 1481.67 Q442.172 1486.25 436.362 1486.25 Q430.552 1486.25 427.473 1481.67 Q424.417 1477.06 424.417 1468.33 Q424.417 1459.58 427.473 1455 Q430.552 1450.39 436.362 1450.39 Z\" fill=\"#000000\" fill-rule=\"nonzero\" fill-opacity=\"1\" /><path clip-path=\"url(#clip280)\" d=\"M859.554 1481.64 L875.873 1481.64 L875.873 1485.58 L853.929 1485.58 L853.929 1481.64 Q856.591 1478.89 861.174 1474.26 Q865.781 1469.61 866.961 1468.27 Q869.207 1465.74 870.086 1464.01 Q870.989 1462.25 870.989 1460.56 Q870.989 1457.8 869.045 1456.07 Q867.123 1454.33 864.022 1454.33 Q861.823 1454.33 859.369 1455.09 Q856.938 1455.86 854.161 1457.41 L854.161 1452.69 Q856.985 1451.55 859.438 1450.97 Q861.892 1450.39 863.929 1450.39 Q869.299 1450.39 872.494 1453.08 Q875.688 1455.77 875.688 1460.26 Q875.688 1462.39 874.878 1464.31 Q874.091 1466.2 871.985 1468.8 Q871.406 1469.47 868.304 1472.69 Q865.202 1475.88 859.554 1481.64 Z\" fill=\"#000000\" fill-rule=\"nonzero\" fill-opacity=\"1\" /><path clip-path=\"url(#clip280)\" d=\"M1296.45 1455.09 L1284.64 1473.54 L1296.45 1473.54 L1296.45 1455.09 M1295.22 1451.02 L1301.1 1451.02 L1301.1 1473.54 L1306.03 1473.54 L1306.03 1477.43 L1301.1 1477.43 L1301.1 1485.58 L1296.45 1485.58 L1296.45 1477.43 L1280.85 1477.43 L1280.85 1472.92 L1295.22 1451.02 Z\" fill=\"#000000\" fill-rule=\"nonzero\" fill-opacity=\"1\" /><path clip-path=\"url(#clip280)\" d=\"M1722.39 1466.44 Q1719.24 1466.44 1717.39 1468.59 Q1715.56 1470.74 1715.56 1474.49 Q1715.56 1478.22 1717.39 1480.39 Q1719.24 1482.55 1722.39 1482.55 Q1725.53 1482.55 1727.36 1480.39 Q1729.21 1478.22 1729.21 1474.49 Q1729.21 1470.74 1727.36 1468.59 Q1725.53 1466.44 1722.39 1466.44 M1731.67 1451.78 L1731.67 1456.04 Q1729.91 1455.21 1728.1 1454.77 Q1726.32 1454.33 1724.56 1454.33 Q1719.93 1454.33 1717.48 1457.45 Q1715.05 1460.58 1714.7 1466.9 Q1716.07 1464.89 1718.13 1463.82 Q1720.19 1462.73 1722.66 1462.73 Q1727.87 1462.73 1730.88 1465.9 Q1733.91 1469.05 1733.91 1474.49 Q1733.91 1479.82 1730.76 1483.03 Q1727.62 1486.25 1722.39 1486.25 Q1716.39 1486.25 1713.22 1481.67 Q1710.05 1477.06 1710.05 1468.33 Q1710.05 1460.14 1713.94 1455.28 Q1717.83 1450.39 1724.38 1450.39 Q1726.14 1450.39 1727.92 1450.74 Q1729.72 1451.09 1731.67 1451.78 Z\" fill=\"#000000\" fill-rule=\"nonzero\" fill-opacity=\"1\" /><path clip-path=\"url(#clip280)\" d=\"M2150.52 1469.17 Q2147.19 1469.17 2145.26 1470.95 Q2143.37 1472.73 2143.37 1475.86 Q2143.37 1478.98 2145.26 1480.77 Q2147.19 1482.55 2150.52 1482.55 Q2153.85 1482.55 2155.77 1480.77 Q2157.7 1478.96 2157.7 1475.86 Q2157.7 1472.73 2155.77 1470.95 Q2153.88 1469.17 2150.52 1469.17 M2145.84 1467.18 Q2142.83 1466.44 2141.14 1464.38 Q2139.48 1462.32 2139.48 1459.35 Q2139.48 1455.21 2142.42 1452.8 Q2145.38 1450.39 2150.52 1450.39 Q2155.68 1450.39 2158.62 1452.8 Q2161.56 1455.21 2161.56 1459.35 Q2161.56 1462.32 2159.87 1464.38 Q2158.2 1466.44 2155.22 1467.18 Q2158.6 1467.96 2160.47 1470.26 Q2162.37 1472.55 2162.37 1475.86 Q2162.37 1480.88 2159.29 1483.57 Q2156.24 1486.25 2150.52 1486.25 Q2144.8 1486.25 2141.72 1483.57 Q2138.67 1480.88 2138.67 1475.86 Q2138.67 1472.55 2140.57 1470.26 Q2142.46 1467.96 2145.84 1467.18 M2144.13 1459.79 Q2144.13 1462.48 2145.8 1463.98 Q2147.49 1465.49 2150.52 1465.49 Q2153.53 1465.49 2155.22 1463.98 Q2156.93 1462.48 2156.93 1459.79 Q2156.93 1457.11 2155.22 1455.6 Q2153.53 1454.1 2150.52 1454.1 Q2147.49 1454.1 2145.8 1455.6 Q2144.13 1457.11 2144.13 1459.79 Z\" fill=\"#000000\" fill-rule=\"nonzero\" fill-opacity=\"1\" /><path clip-path=\"url(#clip280)\" d=\"M1186.18 1525.81 L1186.18 1562.76 L1193.94 1562.76 Q1203.78 1562.76 1208.33 1558.3 Q1212.91 1553.85 1212.91 1544.24 Q1212.91 1534.69 1208.33 1530.26 Q1203.78 1525.81 1193.94 1525.81 L1186.18 1525.81 M1179.75 1520.52 L1192.96 1520.52 Q1206.77 1520.52 1213.23 1526.28 Q1219.69 1532.01 1219.69 1544.24 Q1219.69 1556.52 1213.2 1562.28 Q1206.71 1568.04 1192.96 1568.04 L1179.75 1568.04 L1179.75 1520.52 Z\" fill=\"#000000\" fill-rule=\"nonzero\" fill-opacity=\"1\" /><path clip-path=\"url(#clip280)\" d=\"M1260.18 1548.76 L1260.18 1551.62 L1233.25 1551.62 Q1233.63 1557.67 1236.88 1560.85 Q1240.16 1564 1245.98 1564 Q1249.36 1564 1252.51 1563.17 Q1255.69 1562.35 1258.81 1560.69 L1258.81 1566.23 Q1255.66 1567.57 1252.35 1568.27 Q1249.04 1568.97 1245.63 1568.97 Q1237.1 1568.97 1232.11 1564 Q1227.14 1559.04 1227.14 1550.57 Q1227.14 1541.82 1231.85 1536.69 Q1236.59 1531.54 1244.62 1531.54 Q1251.81 1531.54 1255.98 1536.18 Q1260.18 1540.8 1260.18 1548.76 M1254.32 1547.04 Q1254.26 1542.23 1251.62 1539.37 Q1249.01 1536.5 1244.68 1536.5 Q1239.78 1536.5 1236.82 1539.27 Q1233.89 1542.04 1233.44 1547.07 L1254.32 1547.04 Z\" fill=\"#000000\" fill-rule=\"nonzero\" fill-opacity=\"1\" /><path clip-path=\"url(#clip280)\" d=\"M1293.25 1549.81 Q1293.25 1543.44 1290.61 1539.94 Q1288 1536.44 1283.26 1536.44 Q1278.54 1536.44 1275.9 1539.94 Q1273.29 1543.44 1273.29 1549.81 Q1273.29 1556.14 1275.9 1559.64 Q1278.54 1563.14 1283.26 1563.14 Q1288 1563.14 1290.61 1559.64 Q1293.25 1556.14 1293.25 1549.81 M1299.11 1563.62 Q1299.11 1572.72 1295.06 1577.15 Q1291.02 1581.6 1282.68 1581.6 Q1279.6 1581.6 1276.86 1581.13 Q1274.12 1580.68 1271.54 1579.72 L1271.54 1574.03 Q1274.12 1575.43 1276.64 1576.1 Q1279.15 1576.76 1281.76 1576.76 Q1287.52 1576.76 1290.39 1573.74 Q1293.25 1570.75 1293.25 1564.67 L1293.25 1561.77 Q1291.44 1564.92 1288.6 1566.48 Q1285.77 1568.04 1281.82 1568.04 Q1275.27 1568.04 1271.26 1563.05 Q1267.25 1558.05 1267.25 1549.81 Q1267.25 1541.53 1271.26 1536.53 Q1275.27 1531.54 1281.82 1531.54 Q1285.77 1531.54 1288.6 1533.1 Q1291.44 1534.66 1293.25 1537.81 L1293.25 1532.4 L1299.11 1532.4 L1299.11 1563.62 Z\" fill=\"#000000\" fill-rule=\"nonzero\" fill-opacity=\"1\" /><path clip-path=\"url(#clip280)\" d=\"M1331.83 1537.87 Q1330.84 1537.3 1329.66 1537.04 Q1328.52 1536.76 1327.12 1536.76 Q1322.15 1536.76 1319.48 1540 Q1316.83 1543.22 1316.83 1549.27 L1316.83 1568.04 L1310.95 1568.04 L1310.95 1532.4 L1316.83 1532.4 L1316.83 1537.93 Q1318.68 1534.69 1321.64 1533.13 Q1324.6 1531.54 1328.83 1531.54 Q1329.44 1531.54 1330.17 1531.63 Q1330.9 1531.7 1331.79 1531.85 L1331.83 1537.87 Z\" fill=\"#000000\" fill-rule=\"nonzero\" fill-opacity=\"1\" /><path clip-path=\"url(#clip280)\" d=\"M1367.03 1548.76 L1367.03 1551.62 L1340.1 1551.62 Q1340.48 1557.67 1343.73 1560.85 Q1347.01 1564 1352.83 1564 Q1356.21 1564 1359.36 1563.17 Q1362.54 1562.35 1365.66 1560.69 L1365.66 1566.23 Q1362.51 1567.57 1359.2 1568.27 Q1355.89 1568.97 1352.48 1568.97 Q1343.95 1568.97 1338.96 1564 Q1333.99 1559.04 1333.99 1550.57 Q1333.99 1541.82 1338.7 1536.69 Q1343.44 1531.54 1351.46 1531.54 Q1358.66 1531.54 1362.83 1536.18 Q1367.03 1540.8 1367.03 1548.76 M1361.17 1547.04 Q1361.11 1542.23 1358.47 1539.37 Q1355.86 1536.5 1351.53 1536.5 Q1346.63 1536.5 1343.67 1539.27 Q1340.74 1542.04 1340.29 1547.07 L1361.17 1547.04 Z\" fill=\"#000000\" fill-rule=\"nonzero\" fill-opacity=\"1\" /><path clip-path=\"url(#clip280)\" d=\"M1407.13 1548.76 L1407.13 1551.62 L1380.21 1551.62 Q1380.59 1557.67 1383.83 1560.85 Q1387.11 1564 1392.94 1564 Q1396.31 1564 1399.46 1563.17 Q1402.64 1562.35 1405.76 1560.69 L1405.76 1566.23 Q1402.61 1567.57 1399.3 1568.27 Q1395.99 1568.97 1392.59 1568.97 Q1384.06 1568.97 1379.06 1564 Q1374.09 1559.04 1374.09 1550.57 Q1374.09 1541.82 1378.8 1536.69 Q1383.55 1531.54 1391.57 1531.54 Q1398.76 1531.54 1402.93 1536.18 Q1407.13 1540.8 1407.13 1548.76 M1401.28 1547.04 Q1401.21 1542.23 1398.57 1539.37 Q1395.96 1536.5 1391.63 1536.5 Q1386.73 1536.5 1383.77 1539.27 Q1380.84 1542.04 1380.4 1547.07 L1401.28 1547.04 Z\" fill=\"#000000\" fill-rule=\"nonzero\" fill-opacity=\"1\" /><polyline clip-path=\"url(#clip280)\" style=\"stroke:#000000; stroke-linecap:round; stroke-linejoin:round; stroke-width:4; stroke-opacity:1; fill:none\" points=\"234.125,1423.18 234.125,123.472 \"/>\n",
       "<polyline clip-path=\"url(#clip280)\" style=\"stroke:#000000; stroke-linecap:round; stroke-linejoin:round; stroke-width:4; stroke-opacity:1; fill:none\" points=\"234.125,1423.18 253.023,1423.18 \"/>\n",
       "<polyline clip-path=\"url(#clip280)\" style=\"stroke:#000000; stroke-linecap:round; stroke-linejoin:round; stroke-width:4; stroke-opacity:1; fill:none\" points=\"234.125,1180.7 253.023,1180.7 \"/>\n",
       "<polyline clip-path=\"url(#clip280)\" style=\"stroke:#000000; stroke-linecap:round; stroke-linejoin:round; stroke-width:4; stroke-opacity:1; fill:none\" points=\"234.125,938.214 253.023,938.214 \"/>\n",
       "<polyline clip-path=\"url(#clip280)\" style=\"stroke:#000000; stroke-linecap:round; stroke-linejoin:round; stroke-width:4; stroke-opacity:1; fill:none\" points=\"234.125,695.731 253.023,695.731 \"/>\n",
       "<polyline clip-path=\"url(#clip280)\" style=\"stroke:#000000; stroke-linecap:round; stroke-linejoin:round; stroke-width:4; stroke-opacity:1; fill:none\" points=\"234.125,453.249 253.023,453.249 \"/>\n",
       "<polyline clip-path=\"url(#clip280)\" style=\"stroke:#000000; stroke-linecap:round; stroke-linejoin:round; stroke-width:4; stroke-opacity:1; fill:none\" points=\"234.125,210.766 253.023,210.766 \"/>\n",
       "<path clip-path=\"url(#clip280)\" d=\"M186.181 1408.98 Q182.57 1408.98 180.741 1412.54 Q178.936 1416.08 178.936 1423.21 Q178.936 1430.32 180.741 1433.89 Q182.57 1437.43 186.181 1437.43 Q189.815 1437.43 191.621 1433.89 Q193.45 1430.32 193.45 1423.21 Q193.45 1416.08 191.621 1412.54 Q189.815 1408.98 186.181 1408.98 M186.181 1405.27 Q191.991 1405.27 195.047 1409.88 Q198.125 1414.46 198.125 1423.21 Q198.125 1431.94 195.047 1436.55 Q191.991 1441.13 186.181 1441.13 Q180.371 1441.13 177.292 1436.55 Q174.237 1431.94 174.237 1423.21 Q174.237 1414.46 177.292 1409.88 Q180.371 1405.27 186.181 1405.27 Z\" fill=\"#000000\" fill-rule=\"nonzero\" fill-opacity=\"1\" /><path clip-path=\"url(#clip280)\" d=\"M146.066 1163.42 L164.422 1163.42 L164.422 1167.35 L150.348 1167.35 L150.348 1175.82 Q151.366 1175.48 152.385 1175.32 Q153.403 1175.13 154.422 1175.13 Q160.209 1175.13 163.589 1178.3 Q166.968 1181.47 166.968 1186.89 Q166.968 1192.47 163.496 1195.57 Q160.024 1198.65 153.704 1198.65 Q151.528 1198.65 149.26 1198.28 Q147.015 1197.91 144.607 1197.17 L144.607 1192.47 Q146.691 1193.6 148.913 1194.16 Q151.135 1194.71 153.612 1194.71 Q157.616 1194.71 159.954 1192.61 Q162.292 1190.5 162.292 1186.89 Q162.292 1183.28 159.954 1181.17 Q157.616 1179.07 153.612 1179.07 Q151.737 1179.07 149.862 1179.48 Q148.01 1179.9 146.066 1180.78 L146.066 1163.42 Z\" fill=\"#000000\" fill-rule=\"nonzero\" fill-opacity=\"1\" /><path clip-path=\"url(#clip280)\" d=\"M186.181 1166.5 Q182.57 1166.5 180.741 1170.06 Q178.936 1173.6 178.936 1180.73 Q178.936 1187.84 180.741 1191.4 Q182.57 1194.94 186.181 1194.94 Q189.815 1194.94 191.621 1191.4 Q193.45 1187.84 193.45 1180.73 Q193.45 1173.6 191.621 1170.06 Q189.815 1166.5 186.181 1166.5 M186.181 1162.79 Q191.991 1162.79 195.047 1167.4 Q198.125 1171.98 198.125 1180.73 Q198.125 1189.46 195.047 1194.07 Q191.991 1198.65 186.181 1198.65 Q180.371 1198.65 177.292 1194.07 Q174.237 1189.46 174.237 1180.73 Q174.237 1171.98 177.292 1167.4 Q180.371 1162.79 186.181 1162.79 Z\" fill=\"#000000\" fill-rule=\"nonzero\" fill-opacity=\"1\" /><path clip-path=\"url(#clip280)\" d=\"M116.668 951.559 L124.306 951.559 L124.306 925.194 L115.996 926.86 L115.996 922.601 L124.26 920.934 L128.936 920.934 L128.936 951.559 L136.575 951.559 L136.575 955.494 L116.668 955.494 L116.668 951.559 Z\" fill=\"#000000\" fill-rule=\"nonzero\" fill-opacity=\"1\" /><path clip-path=\"url(#clip280)\" d=\"M156.019 924.013 Q152.408 924.013 150.579 927.578 Q148.774 931.119 148.774 938.249 Q148.774 945.355 150.579 948.92 Q152.408 952.462 156.019 952.462 Q159.653 952.462 161.459 948.92 Q163.288 945.355 163.288 938.249 Q163.288 931.119 161.459 927.578 Q159.653 924.013 156.019 924.013 M156.019 920.309 Q161.829 920.309 164.885 924.916 Q167.964 929.499 167.964 938.249 Q167.964 946.976 164.885 951.582 Q161.829 956.166 156.019 956.166 Q150.209 956.166 147.13 951.582 Q144.075 946.976 144.075 938.249 Q144.075 929.499 147.13 924.916 Q150.209 920.309 156.019 920.309 Z\" fill=\"#000000\" fill-rule=\"nonzero\" fill-opacity=\"1\" /><path clip-path=\"url(#clip280)\" d=\"M186.181 924.013 Q182.57 924.013 180.741 927.578 Q178.936 931.119 178.936 938.249 Q178.936 945.355 180.741 948.92 Q182.57 952.462 186.181 952.462 Q189.815 952.462 191.621 948.92 Q193.45 945.355 193.45 938.249 Q193.45 931.119 191.621 927.578 Q189.815 924.013 186.181 924.013 M186.181 920.309 Q191.991 920.309 195.047 924.916 Q198.125 929.499 198.125 938.249 Q198.125 946.976 195.047 951.582 Q191.991 956.166 186.181 956.166 Q180.371 956.166 177.292 951.582 Q174.237 946.976 174.237 938.249 Q174.237 929.499 177.292 924.916 Q180.371 920.309 186.181 920.309 Z\" fill=\"#000000\" fill-rule=\"nonzero\" fill-opacity=\"1\" /><path clip-path=\"url(#clip280)\" d=\"M116.668 709.076 L124.306 709.076 L124.306 682.711 L115.996 684.377 L115.996 680.118 L124.26 678.451 L128.936 678.451 L128.936 709.076 L136.575 709.076 L136.575 713.011 L116.668 713.011 L116.668 709.076 Z\" fill=\"#000000\" fill-rule=\"nonzero\" fill-opacity=\"1\" /><path clip-path=\"url(#clip280)\" d=\"M146.066 678.451 L164.422 678.451 L164.422 682.387 L150.348 682.387 L150.348 690.859 Q151.366 690.512 152.385 690.35 Q153.403 690.164 154.422 690.164 Q160.209 690.164 163.589 693.336 Q166.968 696.507 166.968 701.924 Q166.968 707.502 163.496 710.604 Q160.024 713.683 153.704 713.683 Q151.528 713.683 149.26 713.312 Q147.015 712.942 144.607 712.201 L144.607 707.502 Q146.691 708.637 148.913 709.192 Q151.135 709.748 153.612 709.748 Q157.616 709.748 159.954 707.641 Q162.292 705.535 162.292 701.924 Q162.292 698.312 159.954 696.206 Q157.616 694.1 153.612 694.1 Q151.737 694.1 149.862 694.516 Q148.01 694.933 146.066 695.813 L146.066 678.451 Z\" fill=\"#000000\" fill-rule=\"nonzero\" fill-opacity=\"1\" /><path clip-path=\"url(#clip280)\" d=\"M186.181 681.53 Q182.57 681.53 180.741 685.095 Q178.936 688.637 178.936 695.766 Q178.936 702.873 180.741 706.437 Q182.57 709.979 186.181 709.979 Q189.815 709.979 191.621 706.437 Q193.45 702.873 193.45 695.766 Q193.45 688.637 191.621 685.095 Q189.815 681.53 186.181 681.53 M186.181 677.826 Q191.991 677.826 195.047 682.433 Q198.125 687.016 198.125 695.766 Q198.125 704.493 195.047 709.099 Q191.991 713.683 186.181 713.683 Q180.371 713.683 177.292 709.099 Q174.237 704.493 174.237 695.766 Q174.237 687.016 177.292 682.433 Q180.371 677.826 186.181 677.826 Z\" fill=\"#000000\" fill-rule=\"nonzero\" fill-opacity=\"1\" /><path clip-path=\"url(#clip280)\" d=\"M119.885 466.594 L136.204 466.594 L136.204 470.529 L114.26 470.529 L114.26 466.594 Q116.922 463.839 121.505 459.209 Q126.112 454.557 127.292 453.214 Q129.538 450.691 130.417 448.955 Q131.32 447.196 131.32 445.506 Q131.32 442.751 129.376 441.015 Q127.455 439.279 124.353 439.279 Q122.154 439.279 119.7 440.043 Q117.269 440.807 114.492 442.358 L114.492 437.635 Q117.316 436.501 119.769 435.922 Q122.223 435.344 124.26 435.344 Q129.63 435.344 132.825 438.029 Q136.019 440.714 136.019 445.205 Q136.019 447.334 135.209 449.256 Q134.422 451.154 132.316 453.746 Q131.737 454.418 128.635 457.635 Q125.533 460.83 119.885 466.594 Z\" fill=\"#000000\" fill-rule=\"nonzero\" fill-opacity=\"1\" /><path clip-path=\"url(#clip280)\" d=\"M156.019 439.047 Q152.408 439.047 150.579 442.612 Q148.774 446.154 148.774 453.283 Q148.774 460.39 150.579 463.955 Q152.408 467.496 156.019 467.496 Q159.653 467.496 161.459 463.955 Q163.288 460.39 163.288 453.283 Q163.288 446.154 161.459 442.612 Q159.653 439.047 156.019 439.047 M156.019 435.344 Q161.829 435.344 164.885 439.95 Q167.964 444.533 167.964 453.283 Q167.964 462.01 164.885 466.617 Q161.829 471.2 156.019 471.2 Q150.209 471.2 147.13 466.617 Q144.075 462.01 144.075 453.283 Q144.075 444.533 147.13 439.95 Q150.209 435.344 156.019 435.344 Z\" fill=\"#000000\" fill-rule=\"nonzero\" fill-opacity=\"1\" /><path clip-path=\"url(#clip280)\" d=\"M186.181 439.047 Q182.57 439.047 180.741 442.612 Q178.936 446.154 178.936 453.283 Q178.936 460.39 180.741 463.955 Q182.57 467.496 186.181 467.496 Q189.815 467.496 191.621 463.955 Q193.45 460.39 193.45 453.283 Q193.45 446.154 191.621 442.612 Q189.815 439.047 186.181 439.047 M186.181 435.344 Q191.991 435.344 195.047 439.95 Q198.125 444.533 198.125 453.283 Q198.125 462.01 195.047 466.617 Q191.991 471.2 186.181 471.2 Q180.371 471.2 177.292 466.617 Q174.237 462.01 174.237 453.283 Q174.237 444.533 177.292 439.95 Q180.371 435.344 186.181 435.344 Z\" fill=\"#000000\" fill-rule=\"nonzero\" fill-opacity=\"1\" /><path clip-path=\"url(#clip280)\" d=\"M119.885 224.111 L136.204 224.111 L136.204 228.046 L114.26 228.046 L114.26 224.111 Q116.922 221.356 121.505 216.727 Q126.112 212.074 127.292 210.731 Q129.538 208.208 130.417 206.472 Q131.32 204.713 131.32 203.023 Q131.32 200.268 129.376 198.532 Q127.455 196.796 124.353 196.796 Q122.154 196.796 119.7 197.56 Q117.269 198.324 114.492 199.875 L114.492 195.153 Q117.316 194.018 119.769 193.44 Q122.223 192.861 124.26 192.861 Q129.63 192.861 132.825 195.546 Q136.019 198.231 136.019 202.722 Q136.019 204.852 135.209 206.773 Q134.422 208.671 132.316 211.264 Q131.737 211.935 128.635 215.152 Q125.533 218.347 119.885 224.111 Z\" fill=\"#000000\" fill-rule=\"nonzero\" fill-opacity=\"1\" /><path clip-path=\"url(#clip280)\" d=\"M146.066 193.486 L164.422 193.486 L164.422 197.421 L150.348 197.421 L150.348 205.893 Q151.366 205.546 152.385 205.384 Q153.403 205.199 154.422 205.199 Q160.209 205.199 163.589 208.37 Q166.968 211.541 166.968 216.958 Q166.968 222.537 163.496 225.639 Q160.024 228.717 153.704 228.717 Q151.528 228.717 149.26 228.347 Q147.015 227.976 144.607 227.236 L144.607 222.537 Q146.691 223.671 148.913 224.227 Q151.135 224.782 153.612 224.782 Q157.616 224.782 159.954 222.676 Q162.292 220.569 162.292 216.958 Q162.292 213.347 159.954 211.24 Q157.616 209.134 153.612 209.134 Q151.737 209.134 149.862 209.551 Q148.01 209.967 146.066 210.847 L146.066 193.486 Z\" fill=\"#000000\" fill-rule=\"nonzero\" fill-opacity=\"1\" /><path clip-path=\"url(#clip280)\" d=\"M186.181 196.565 Q182.57 196.565 180.741 200.129 Q178.936 203.671 178.936 210.801 Q178.936 217.907 180.741 221.472 Q182.57 225.014 186.181 225.014 Q189.815 225.014 191.621 221.472 Q193.45 217.907 193.45 210.801 Q193.45 203.671 191.621 200.129 Q189.815 196.565 186.181 196.565 M186.181 192.861 Q191.991 192.861 195.047 197.467 Q198.125 202.051 198.125 210.801 Q198.125 219.527 195.047 224.134 Q191.991 228.717 186.181 228.717 Q180.371 228.717 177.292 224.134 Q174.237 219.527 174.237 210.801 Q174.237 202.051 177.292 197.467 Q180.371 192.861 186.181 192.861 Z\" fill=\"#000000\" fill-rule=\"nonzero\" fill-opacity=\"1\" /><path clip-path=\"url(#clip280)\" d=\"M20.1444 829.185 L26.9239 829.185 Q23.9002 832.432 22.4043 836.124 Q20.9083 839.784 20.9083 843.922 Q20.9083 852.07 25.9054 856.398 Q30.8707 860.727 40.2919 860.727 Q49.6813 860.727 54.6784 856.398 Q59.6436 852.07 59.6436 843.922 Q59.6436 839.784 58.1477 836.124 Q56.6518 832.432 53.6281 829.185 L60.3439 829.185 Q62.6355 832.559 63.7814 836.346 Q64.9272 840.102 64.9272 844.304 Q64.9272 855.093 58.3387 861.3 Q51.7183 867.507 40.2919 867.507 Q28.8336 867.507 22.2451 861.3 Q15.6248 855.093 15.6248 844.304 Q15.6248 840.039 16.7706 836.283 Q17.8846 832.495 20.1444 829.185 Z\" fill=\"#000000\" fill-rule=\"nonzero\" fill-opacity=\"1\" /><path clip-path=\"url(#clip280)\" d=\"M32.4621 805.696 Q32.4621 810.406 36.1542 813.143 Q39.8145 815.881 46.212 815.881 Q52.6095 815.881 56.3017 813.175 Q59.9619 810.438 59.9619 805.696 Q59.9619 801.017 56.2698 798.28 Q52.5777 795.542 46.212 795.542 Q39.8781 795.542 36.186 798.28 Q32.4621 801.017 32.4621 805.696 M27.4968 805.696 Q27.4968 798.057 32.4621 793.696 Q37.4273 789.336 46.212 789.336 Q54.9649 789.336 59.9619 793.696 Q64.9272 798.057 64.9272 805.696 Q64.9272 813.366 59.9619 817.727 Q54.9649 822.055 46.212 822.055 Q37.4273 822.055 32.4621 817.727 Q27.4968 813.366 27.4968 805.696 Z\" fill=\"#000000\" fill-rule=\"nonzero\" fill-opacity=\"1\" /><path clip-path=\"url(#clip280)\" d=\"M49.9359 780.233 L28.3562 780.233 L28.3562 774.376 L49.7131 774.376 Q54.7739 774.376 57.3202 772.403 Q59.8346 770.43 59.8346 766.483 Q59.8346 761.74 56.8109 759.003 Q53.7872 756.234 48.5673 756.234 L28.3562 756.234 L28.3562 750.378 L64.0042 750.378 L64.0042 756.234 L58.5296 756.234 Q61.7762 758.367 63.3676 761.199 Q64.9272 764 64.9272 767.724 Q64.9272 773.867 61.1078 777.05 Q57.2883 780.233 49.9359 780.233 M27.4968 765.496 L27.4968 765.496 Z\" fill=\"#000000\" fill-rule=\"nonzero\" fill-opacity=\"1\" /><path clip-path=\"url(#clip280)\" d=\"M42.4881 708.682 L64.0042 708.682 L64.0042 714.539 L42.679 714.539 Q37.6183 714.539 35.1038 716.512 Q32.5894 718.485 32.5894 722.432 Q32.5894 727.175 35.6131 729.912 Q38.6368 732.649 43.8567 732.649 L64.0042 732.649 L64.0042 738.537 L28.3562 738.537 L28.3562 732.649 L33.8944 732.649 Q30.6797 730.548 29.0883 727.716 Q27.4968 724.851 27.4968 721.127 Q27.4968 714.984 31.3163 711.833 Q35.1038 708.682 42.4881 708.682 Z\" fill=\"#000000\" fill-rule=\"nonzero\" fill-opacity=\"1\" /><path clip-path=\"url(#clip280)\" d=\"M18.2347 691.208 L28.3562 691.208 L28.3562 679.145 L32.9077 679.145 L32.9077 691.208 L52.2594 691.208 Q56.6199 691.208 57.8613 690.031 Q59.1026 688.821 59.1026 685.161 L59.1026 679.145 L64.0042 679.145 L64.0042 685.161 Q64.0042 691.94 61.4897 694.519 Q58.9434 697.097 52.2594 697.097 L32.9077 697.097 L32.9077 701.393 L28.3562 701.393 L28.3562 697.097 L18.2347 697.097 L18.2347 691.208 Z\" fill=\"#000000\" fill-rule=\"nonzero\" fill-opacity=\"1\" /><path clip-path=\"url(#clip280)\" d=\"M1166.42 34.1734 Q1165.17 33.4443 1163.67 33.1202 Q1162.21 32.7556 1160.43 32.7556 Q1154.11 32.7556 1150.71 36.8875 Q1147.34 40.9789 1147.34 48.6757 L1147.34 72.576 L1139.85 72.576 L1139.85 27.2059 L1147.34 27.2059 L1147.34 34.2544 Q1149.69 30.1225 1153.46 28.1376 Q1157.23 26.1121 1162.62 26.1121 Q1163.39 26.1121 1164.32 26.2337 Q1165.25 26.3147 1166.38 26.5172 L1166.42 34.1734 Z\" fill=\"#000000\" fill-rule=\"nonzero\" fill-opacity=\"1\" /><path clip-path=\"url(#clip280)\" d=\"M1194.86 49.7694 Q1185.83 49.7694 1182.34 51.8354 Q1178.86 53.9013 1178.86 58.8839 Q1178.86 62.8538 1181.45 65.2034 Q1184.09 67.5124 1188.58 67.5124 Q1194.78 67.5124 1198.51 63.1374 Q1202.28 58.7219 1202.28 51.4303 L1202.28 49.7694 L1194.86 49.7694 M1209.73 46.6907 L1209.73 72.576 L1202.28 72.576 L1202.28 65.6895 Q1199.72 69.8214 1195.92 71.8063 Q1192.11 73.7508 1186.6 73.7508 Q1179.63 73.7508 1175.5 69.8619 Q1171.41 65.9325 1171.41 59.3701 Q1171.41 51.7138 1176.51 47.825 Q1181.66 43.9361 1191.82 43.9361 L1202.28 43.9361 L1202.28 43.2069 Q1202.28 38.0623 1198.87 35.2672 Q1195.51 32.4315 1189.39 32.4315 Q1185.5 32.4315 1181.82 33.3632 Q1178.13 34.295 1174.73 36.1584 L1174.73 29.2718 Q1178.82 27.692 1182.67 26.9223 Q1186.52 26.1121 1190.16 26.1121 Q1200.01 26.1121 1204.87 31.2163 Q1209.73 36.3204 1209.73 46.6907 Z\" fill=\"#000000\" fill-rule=\"nonzero\" fill-opacity=\"1\" /><path clip-path=\"url(#clip280)\" d=\"M1262.8 45.1919 L1262.8 72.576 L1255.34 72.576 L1255.34 45.4349 Q1255.34 38.994 1252.83 35.7938 Q1250.32 32.5936 1245.3 32.5936 Q1239.26 32.5936 1235.78 36.4419 Q1232.29 40.2903 1232.29 46.9338 L1232.29 72.576 L1224.8 72.576 L1224.8 27.2059 L1232.29 27.2059 L1232.29 34.2544 Q1234.97 30.163 1238.57 28.1376 Q1242.22 26.1121 1246.96 26.1121 Q1254.77 26.1121 1258.79 30.9732 Q1262.8 35.7938 1262.8 45.1919 Z\" fill=\"#000000\" fill-rule=\"nonzero\" fill-opacity=\"1\" /><path clip-path=\"url(#clip280)\" d=\"M1307.52 34.0924 L1307.52 9.54393 L1314.97 9.54393 L1314.97 72.576 L1307.52 72.576 L1307.52 65.7705 Q1305.17 69.8214 1301.56 71.8063 Q1298 73.7508 1292.97 73.7508 Q1284.75 73.7508 1279.57 67.1883 Q1274.42 60.6258 1274.42 49.9314 Q1274.42 39.2371 1279.57 32.6746 Q1284.75 26.1121 1292.97 26.1121 Q1298 26.1121 1301.56 28.0971 Q1305.17 30.0415 1307.52 34.0924 M1282.12 49.9314 Q1282.12 58.1548 1285.48 62.8538 Q1288.88 67.5124 1294.8 67.5124 Q1300.71 67.5124 1304.11 62.8538 Q1307.52 58.1548 1307.52 49.9314 Q1307.52 41.7081 1304.11 37.0496 Q1300.71 32.3505 1294.8 32.3505 Q1288.88 32.3505 1285.48 37.0496 Q1282.12 41.7081 1282.12 49.9314 Z\" fill=\"#000000\" fill-rule=\"nonzero\" fill-opacity=\"1\" /><path clip-path=\"url(#clip280)\" d=\"M1347.91 32.4315 Q1341.91 32.4315 1338.43 37.1306 Q1334.94 41.7891 1334.94 49.9314 Q1334.94 58.0738 1338.39 62.7728 Q1341.87 67.4314 1347.91 67.4314 Q1353.86 67.4314 1357.34 62.7323 Q1360.83 58.0333 1360.83 49.9314 Q1360.83 41.8701 1357.34 37.1711 Q1353.86 32.4315 1347.91 32.4315 M1347.91 26.1121 Q1357.63 26.1121 1363.18 32.4315 Q1368.73 38.7509 1368.73 49.9314 Q1368.73 61.0714 1363.18 67.4314 Q1357.63 73.7508 1347.91 73.7508 Q1338.14 73.7508 1332.59 67.4314 Q1327.08 61.0714 1327.08 49.9314 Q1327.08 38.7509 1332.59 32.4315 Q1338.14 26.1121 1347.91 26.1121 Z\" fill=\"#000000\" fill-rule=\"nonzero\" fill-opacity=\"1\" /><path clip-path=\"url(#clip280)\" d=\"M1416.41 35.9153 Q1419.2 30.8922 1423.09 28.5022 Q1426.98 26.1121 1432.24 26.1121 Q1439.33 26.1121 1443.18 31.0947 Q1447.03 36.0368 1447.03 45.1919 L1447.03 72.576 L1439.54 72.576 L1439.54 45.4349 Q1439.54 38.913 1437.23 35.7533 Q1434.92 32.5936 1430.18 32.5936 Q1424.39 32.5936 1421.02 36.4419 Q1417.66 40.2903 1417.66 46.9338 L1417.66 72.576 L1410.17 72.576 L1410.17 45.4349 Q1410.17 38.8725 1407.86 35.7533 Q1405.55 32.5936 1400.73 32.5936 Q1395.02 32.5936 1391.65 36.4824 Q1388.29 40.3308 1388.29 46.9338 L1388.29 72.576 L1380.8 72.576 L1380.8 27.2059 L1388.29 27.2059 L1388.29 34.2544 Q1390.84 30.082 1394.41 28.0971 Q1397.97 26.1121 1402.88 26.1121 Q1407.82 26.1121 1411.26 28.6237 Q1414.75 31.1352 1416.41 35.9153 Z\" fill=\"#000000\" fill-rule=\"nonzero\" fill-opacity=\"1\" /><path clip-path=\"url(#clip282)\" d=\"M350.654 729.679 L350.654 1423.18 L522.07 1423.18 L522.07 729.679 L350.654 729.679 L350.654 729.679  Z\" fill=\"#009af9\" fill-rule=\"evenodd\" fill-opacity=\"1\"/>\n",
       "<polyline clip-path=\"url(#clip282)\" style=\"stroke:#000000; stroke-linecap:round; stroke-linejoin:round; stroke-width:4; stroke-opacity:1; fill:none\" points=\"350.654,729.679 350.654,1423.18 522.07,1423.18 522.07,729.679 350.654,729.679 \"/>\n",
       "<path clip-path=\"url(#clip282)\" d=\"M1422 1258.29 L1422 1423.18 L1593.42 1423.18 L1593.42 1258.29 L1422 1258.29 L1422 1258.29  Z\" fill=\"#009af9\" fill-rule=\"evenodd\" fill-opacity=\"1\"/>\n",
       "<polyline clip-path=\"url(#clip282)\" style=\"stroke:#000000; stroke-linecap:round; stroke-linejoin:round; stroke-width:4; stroke-opacity:1; fill:none\" points=\"1422,1258.29 1422,1423.18 1593.42,1423.18 1593.42,1258.29 1422,1258.29 \"/>\n",
       "<path clip-path=\"url(#clip282)\" d=\"M1207.73 972.162 L1207.73 1423.18 L1379.15 1423.18 L1379.15 972.162 L1207.73 972.162 L1207.73 972.162  Z\" fill=\"#009af9\" fill-rule=\"evenodd\" fill-opacity=\"1\"/>\n",
       "<polyline clip-path=\"url(#clip282)\" style=\"stroke:#000000; stroke-linecap:round; stroke-linejoin:round; stroke-width:4; stroke-opacity:1; fill:none\" points=\"1207.73,972.162 1207.73,1423.18 1379.15,1423.18 1379.15,972.162 1207.73,972.162 \"/>\n",
       "<path clip-path=\"url(#clip282)\" d=\"M1636.27 1364.98 L1636.27 1423.18 L1807.69 1423.18 L1807.69 1364.98 L1636.27 1364.98 L1636.27 1364.98  Z\" fill=\"#009af9\" fill-rule=\"evenodd\" fill-opacity=\"1\"/>\n",
       "<polyline clip-path=\"url(#clip282)\" style=\"stroke:#000000; stroke-linecap:round; stroke-linejoin:round; stroke-width:4; stroke-opacity:1; fill:none\" points=\"1636.27,1364.98 1636.27,1423.18 1807.69,1423.18 1807.69,1364.98 1636.27,1364.98 \"/>\n",
       "<path clip-path=\"url(#clip282)\" d=\"M779.193 123.472 L779.193 1423.18 L950.609 1423.18 L950.609 123.472 L779.193 123.472 L779.193 123.472  Z\" fill=\"#009af9\" fill-rule=\"evenodd\" fill-opacity=\"1\"/>\n",
       "<polyline clip-path=\"url(#clip282)\" style=\"stroke:#000000; stroke-linecap:round; stroke-linejoin:round; stroke-width:4; stroke-opacity:1; fill:none\" points=\"779.193,123.472 779.193,1423.18 950.609,1423.18 950.609,123.472 779.193,123.472 \"/>\n",
       "<path clip-path=\"url(#clip282)\" d=\"M1850.54 1394.08 L1850.54 1423.18 L2021.96 1423.18 L2021.96 1394.08 L1850.54 1394.08 L1850.54 1394.08  Z\" fill=\"#009af9\" fill-rule=\"evenodd\" fill-opacity=\"1\"/>\n",
       "<polyline clip-path=\"url(#clip282)\" style=\"stroke:#000000; stroke-linecap:round; stroke-linejoin:round; stroke-width:4; stroke-opacity:1; fill:none\" points=\"1850.54,1394.08 1850.54,1423.18 2021.96,1423.18 2021.96,1394.08 1850.54,1394.08 \"/>\n",
       "<path clip-path=\"url(#clip282)\" d=\"M2064.81 1413.48 L2064.81 1423.18 L2236.23 1423.18 L2236.23 1413.48 L2064.81 1413.48 L2064.81 1413.48  Z\" fill=\"#009af9\" fill-rule=\"evenodd\" fill-opacity=\"1\"/>\n",
       "<polyline clip-path=\"url(#clip282)\" style=\"stroke:#000000; stroke-linecap:round; stroke-linejoin:round; stroke-width:4; stroke-opacity:1; fill:none\" points=\"2064.81,1413.48 2064.81,1423.18 2236.23,1423.18 2236.23,1413.48 2064.81,1413.48 \"/>\n",
       "<path clip-path=\"url(#clip282)\" d=\"M993.463 579.34 L993.463 1423.18 L1164.88 1423.18 L1164.88 579.34 L993.463 579.34 L993.463 579.34  Z\" fill=\"#009af9\" fill-rule=\"evenodd\" fill-opacity=\"1\"/>\n",
       "<polyline clip-path=\"url(#clip282)\" style=\"stroke:#000000; stroke-linecap:round; stroke-linejoin:round; stroke-width:4; stroke-opacity:1; fill:none\" points=\"993.463,579.34 993.463,1423.18 1164.88,1423.18 1164.88,579.34 993.463,579.34 \"/>\n",
       "<path clip-path=\"url(#clip282)\" d=\"M564.924 123.472 L564.924 1423.18 L736.339 1423.18 L736.339 123.472 L564.924 123.472 L564.924 123.472  Z\" fill=\"#009af9\" fill-rule=\"evenodd\" fill-opacity=\"1\"/>\n",
       "<polyline clip-path=\"url(#clip282)\" style=\"stroke:#000000; stroke-linecap:round; stroke-linejoin:round; stroke-width:4; stroke-opacity:1; fill:none\" points=\"564.924,123.472 564.924,1423.18 736.339,1423.18 736.339,123.472 564.924,123.472 \"/>\n",
       "<circle clip-path=\"url(#clip282)\" style=\"fill:#009af9; stroke:none; fill-opacity:0\" cx=\"436.362\" cy=\"729.679\" r=\"2\"/>\n",
       "<circle clip-path=\"url(#clip282)\" style=\"fill:#009af9; stroke:none; fill-opacity:0\" cx=\"1507.71\" cy=\"1258.29\" r=\"2\"/>\n",
       "<circle clip-path=\"url(#clip282)\" style=\"fill:#009af9; stroke:none; fill-opacity:0\" cx=\"1293.44\" cy=\"972.162\" r=\"2\"/>\n",
       "<circle clip-path=\"url(#clip282)\" style=\"fill:#009af9; stroke:none; fill-opacity:0\" cx=\"1721.98\" cy=\"1364.98\" r=\"2\"/>\n",
       "<circle clip-path=\"url(#clip282)\" style=\"fill:#009af9; stroke:none; fill-opacity:0\" cx=\"864.901\" cy=\"123.472\" r=\"2\"/>\n",
       "<circle clip-path=\"url(#clip282)\" style=\"fill:#009af9; stroke:none; fill-opacity:0\" cx=\"1936.25\" cy=\"1394.08\" r=\"2\"/>\n",
       "<circle clip-path=\"url(#clip282)\" style=\"fill:#009af9; stroke:none; fill-opacity:0\" cx=\"2150.52\" cy=\"1413.48\" r=\"2\"/>\n",
       "<circle clip-path=\"url(#clip282)\" style=\"fill:#009af9; stroke:none; fill-opacity:0\" cx=\"1079.17\" cy=\"579.34\" r=\"2\"/>\n",
       "<circle clip-path=\"url(#clip282)\" style=\"fill:#009af9; stroke:none; fill-opacity:0\" cx=\"650.632\" cy=\"123.472\" r=\"2\"/>\n",
       "</svg>\n"
      ],
      "text/html": [
       "<?xml version=\"1.0\" encoding=\"utf-8\"?>\n",
       "<svg xmlns=\"http://www.w3.org/2000/svg\" xmlns:xlink=\"http://www.w3.org/1999/xlink\" width=\"600\" height=\"400\" viewBox=\"0 0 2400 1600\">\n",
       "<defs>\n",
       "  <clipPath id=\"clip330\">\n",
       "    <rect x=\"0\" y=\"0\" width=\"2400\" height=\"1600\"/>\n",
       "  </clipPath>\n",
       "</defs>\n",
       "<path clip-path=\"url(#clip330)\" d=\"M0 1600 L2400 1600 L2400 0 L0 0  Z\" fill=\"#ffffff\" fill-rule=\"evenodd\" fill-opacity=\"1\"/>\n",
       "<defs>\n",
       "  <clipPath id=\"clip331\">\n",
       "    <rect x=\"480\" y=\"0\" width=\"1681\" height=\"1600\"/>\n",
       "  </clipPath>\n",
       "</defs>\n",
       "<path clip-path=\"url(#clip330)\" d=\"M234.125 1423.18 L2352.76 1423.18 L2352.76 123.472 L234.125 123.472  Z\" fill=\"#ffffff\" fill-rule=\"evenodd\" fill-opacity=\"1\"/>\n",
       "<defs>\n",
       "  <clipPath id=\"clip332\">\n",
       "    <rect x=\"234\" y=\"123\" width=\"2120\" height=\"1301\"/>\n",
       "  </clipPath>\n",
       "</defs>\n",
       "<polyline clip-path=\"url(#clip332)\" style=\"stroke:#000000; stroke-linecap:round; stroke-linejoin:round; stroke-width:2; stroke-opacity:0.1; fill:none\" points=\"436.362,1423.18 436.362,123.472 \"/>\n",
       "<polyline clip-path=\"url(#clip332)\" style=\"stroke:#000000; stroke-linecap:round; stroke-linejoin:round; stroke-width:2; stroke-opacity:0.1; fill:none\" points=\"864.901,1423.18 864.901,123.472 \"/>\n",
       "<polyline clip-path=\"url(#clip332)\" style=\"stroke:#000000; stroke-linecap:round; stroke-linejoin:round; stroke-width:2; stroke-opacity:0.1; fill:none\" points=\"1293.44,1423.18 1293.44,123.472 \"/>\n",
       "<polyline clip-path=\"url(#clip332)\" style=\"stroke:#000000; stroke-linecap:round; stroke-linejoin:round; stroke-width:2; stroke-opacity:0.1; fill:none\" points=\"1721.98,1423.18 1721.98,123.472 \"/>\n",
       "<polyline clip-path=\"url(#clip332)\" style=\"stroke:#000000; stroke-linecap:round; stroke-linejoin:round; stroke-width:2; stroke-opacity:0.1; fill:none\" points=\"2150.52,1423.18 2150.52,123.472 \"/>\n",
       "<polyline clip-path=\"url(#clip332)\" style=\"stroke:#000000; stroke-linecap:round; stroke-linejoin:round; stroke-width:2; stroke-opacity:0.1; fill:none\" points=\"234.125,1423.18 2352.76,1423.18 \"/>\n",
       "<polyline clip-path=\"url(#clip332)\" style=\"stroke:#000000; stroke-linecap:round; stroke-linejoin:round; stroke-width:2; stroke-opacity:0.1; fill:none\" points=\"234.125,1180.7 2352.76,1180.7 \"/>\n",
       "<polyline clip-path=\"url(#clip332)\" style=\"stroke:#000000; stroke-linecap:round; stroke-linejoin:round; stroke-width:2; stroke-opacity:0.1; fill:none\" points=\"234.125,938.214 2352.76,938.214 \"/>\n",
       "<polyline clip-path=\"url(#clip332)\" style=\"stroke:#000000; stroke-linecap:round; stroke-linejoin:round; stroke-width:2; stroke-opacity:0.1; fill:none\" points=\"234.125,695.731 2352.76,695.731 \"/>\n",
       "<polyline clip-path=\"url(#clip332)\" style=\"stroke:#000000; stroke-linecap:round; stroke-linejoin:round; stroke-width:2; stroke-opacity:0.1; fill:none\" points=\"234.125,453.249 2352.76,453.249 \"/>\n",
       "<polyline clip-path=\"url(#clip332)\" style=\"stroke:#000000; stroke-linecap:round; stroke-linejoin:round; stroke-width:2; stroke-opacity:0.1; fill:none\" points=\"234.125,210.766 2352.76,210.766 \"/>\n",
       "<polyline clip-path=\"url(#clip330)\" style=\"stroke:#000000; stroke-linecap:round; stroke-linejoin:round; stroke-width:4; stroke-opacity:1; fill:none\" points=\"234.125,1423.18 2352.76,1423.18 \"/>\n",
       "<polyline clip-path=\"url(#clip330)\" style=\"stroke:#000000; stroke-linecap:round; stroke-linejoin:round; stroke-width:4; stroke-opacity:1; fill:none\" points=\"436.362,1423.18 436.362,1404.28 \"/>\n",
       "<polyline clip-path=\"url(#clip330)\" style=\"stroke:#000000; stroke-linecap:round; stroke-linejoin:round; stroke-width:4; stroke-opacity:1; fill:none\" points=\"864.901,1423.18 864.901,1404.28 \"/>\n",
       "<polyline clip-path=\"url(#clip330)\" style=\"stroke:#000000; stroke-linecap:round; stroke-linejoin:round; stroke-width:4; stroke-opacity:1; fill:none\" points=\"1293.44,1423.18 1293.44,1404.28 \"/>\n",
       "<polyline clip-path=\"url(#clip330)\" style=\"stroke:#000000; stroke-linecap:round; stroke-linejoin:round; stroke-width:4; stroke-opacity:1; fill:none\" points=\"1721.98,1423.18 1721.98,1404.28 \"/>\n",
       "<polyline clip-path=\"url(#clip330)\" style=\"stroke:#000000; stroke-linecap:round; stroke-linejoin:round; stroke-width:4; stroke-opacity:1; fill:none\" points=\"2150.52,1423.18 2150.52,1404.28 \"/>\n",
       "<path clip-path=\"url(#clip330)\" d=\"M436.362 1454.1 Q432.751 1454.1 430.922 1457.66 Q429.116 1461.2 429.116 1468.33 Q429.116 1475.44 430.922 1479.01 Q432.751 1482.55 436.362 1482.55 Q439.996 1482.55 441.802 1479.01 Q443.63 1475.44 443.63 1468.33 Q443.63 1461.2 441.802 1457.66 Q439.996 1454.1 436.362 1454.1 M436.362 1450.39 Q442.172 1450.39 445.227 1455 Q448.306 1459.58 448.306 1468.33 Q448.306 1477.06 445.227 1481.67 Q442.172 1486.25 436.362 1486.25 Q430.552 1486.25 427.473 1481.67 Q424.417 1477.06 424.417 1468.33 Q424.417 1459.58 427.473 1455 Q430.552 1450.39 436.362 1450.39 Z\" fill=\"#000000\" fill-rule=\"nonzero\" fill-opacity=\"1\" /><path clip-path=\"url(#clip330)\" d=\"M859.554 1481.64 L875.873 1481.64 L875.873 1485.58 L853.929 1485.58 L853.929 1481.64 Q856.591 1478.89 861.174 1474.26 Q865.781 1469.61 866.961 1468.27 Q869.207 1465.74 870.086 1464.01 Q870.989 1462.25 870.989 1460.56 Q870.989 1457.8 869.045 1456.07 Q867.123 1454.33 864.022 1454.33 Q861.823 1454.33 859.369 1455.09 Q856.938 1455.86 854.161 1457.41 L854.161 1452.69 Q856.985 1451.55 859.438 1450.97 Q861.892 1450.39 863.929 1450.39 Q869.299 1450.39 872.494 1453.08 Q875.688 1455.77 875.688 1460.26 Q875.688 1462.39 874.878 1464.31 Q874.091 1466.2 871.985 1468.8 Q871.406 1469.47 868.304 1472.69 Q865.202 1475.88 859.554 1481.64 Z\" fill=\"#000000\" fill-rule=\"nonzero\" fill-opacity=\"1\" /><path clip-path=\"url(#clip330)\" d=\"M1296.45 1455.09 L1284.64 1473.54 L1296.45 1473.54 L1296.45 1455.09 M1295.22 1451.02 L1301.1 1451.02 L1301.1 1473.54 L1306.03 1473.54 L1306.03 1477.43 L1301.1 1477.43 L1301.1 1485.58 L1296.45 1485.58 L1296.45 1477.43 L1280.85 1477.43 L1280.85 1472.92 L1295.22 1451.02 Z\" fill=\"#000000\" fill-rule=\"nonzero\" fill-opacity=\"1\" /><path clip-path=\"url(#clip330)\" d=\"M1722.39 1466.44 Q1719.24 1466.44 1717.39 1468.59 Q1715.56 1470.74 1715.56 1474.49 Q1715.56 1478.22 1717.39 1480.39 Q1719.24 1482.55 1722.39 1482.55 Q1725.53 1482.55 1727.36 1480.39 Q1729.21 1478.22 1729.21 1474.49 Q1729.21 1470.74 1727.36 1468.59 Q1725.53 1466.44 1722.39 1466.44 M1731.67 1451.78 L1731.67 1456.04 Q1729.91 1455.21 1728.1 1454.77 Q1726.32 1454.33 1724.56 1454.33 Q1719.93 1454.33 1717.48 1457.45 Q1715.05 1460.58 1714.7 1466.9 Q1716.07 1464.89 1718.13 1463.82 Q1720.19 1462.73 1722.66 1462.73 Q1727.87 1462.73 1730.88 1465.9 Q1733.91 1469.05 1733.91 1474.49 Q1733.91 1479.82 1730.76 1483.03 Q1727.62 1486.25 1722.39 1486.25 Q1716.39 1486.25 1713.22 1481.67 Q1710.05 1477.06 1710.05 1468.33 Q1710.05 1460.14 1713.94 1455.28 Q1717.83 1450.39 1724.38 1450.39 Q1726.14 1450.39 1727.92 1450.74 Q1729.72 1451.09 1731.67 1451.78 Z\" fill=\"#000000\" fill-rule=\"nonzero\" fill-opacity=\"1\" /><path clip-path=\"url(#clip330)\" d=\"M2150.52 1469.17 Q2147.19 1469.17 2145.26 1470.95 Q2143.37 1472.73 2143.37 1475.86 Q2143.37 1478.98 2145.26 1480.77 Q2147.19 1482.55 2150.52 1482.55 Q2153.85 1482.55 2155.77 1480.77 Q2157.7 1478.96 2157.7 1475.86 Q2157.7 1472.73 2155.77 1470.95 Q2153.88 1469.17 2150.52 1469.17 M2145.84 1467.18 Q2142.83 1466.44 2141.14 1464.38 Q2139.48 1462.32 2139.48 1459.35 Q2139.48 1455.21 2142.42 1452.8 Q2145.38 1450.39 2150.52 1450.39 Q2155.68 1450.39 2158.62 1452.8 Q2161.56 1455.21 2161.56 1459.35 Q2161.56 1462.32 2159.87 1464.38 Q2158.2 1466.44 2155.22 1467.18 Q2158.6 1467.96 2160.47 1470.26 Q2162.37 1472.55 2162.37 1475.86 Q2162.37 1480.88 2159.29 1483.57 Q2156.24 1486.25 2150.52 1486.25 Q2144.8 1486.25 2141.72 1483.57 Q2138.67 1480.88 2138.67 1475.86 Q2138.67 1472.55 2140.57 1470.26 Q2142.46 1467.96 2145.84 1467.18 M2144.13 1459.79 Q2144.13 1462.48 2145.8 1463.98 Q2147.49 1465.49 2150.52 1465.49 Q2153.53 1465.49 2155.22 1463.98 Q2156.93 1462.48 2156.93 1459.79 Q2156.93 1457.11 2155.22 1455.6 Q2153.53 1454.1 2150.52 1454.1 Q2147.49 1454.1 2145.8 1455.6 Q2144.13 1457.11 2144.13 1459.79 Z\" fill=\"#000000\" fill-rule=\"nonzero\" fill-opacity=\"1\" /><path clip-path=\"url(#clip330)\" d=\"M1186.18 1525.81 L1186.18 1562.76 L1193.94 1562.76 Q1203.78 1562.76 1208.33 1558.3 Q1212.91 1553.85 1212.91 1544.24 Q1212.91 1534.69 1208.33 1530.26 Q1203.78 1525.81 1193.94 1525.81 L1186.18 1525.81 M1179.75 1520.52 L1192.96 1520.52 Q1206.77 1520.52 1213.23 1526.28 Q1219.69 1532.01 1219.69 1544.24 Q1219.69 1556.52 1213.2 1562.28 Q1206.71 1568.04 1192.96 1568.04 L1179.75 1568.04 L1179.75 1520.52 Z\" fill=\"#000000\" fill-rule=\"nonzero\" fill-opacity=\"1\" /><path clip-path=\"url(#clip330)\" d=\"M1260.18 1548.76 L1260.18 1551.62 L1233.25 1551.62 Q1233.63 1557.67 1236.88 1560.85 Q1240.16 1564 1245.98 1564 Q1249.36 1564 1252.51 1563.17 Q1255.69 1562.35 1258.81 1560.69 L1258.81 1566.23 Q1255.66 1567.57 1252.35 1568.27 Q1249.04 1568.97 1245.63 1568.97 Q1237.1 1568.97 1232.11 1564 Q1227.14 1559.04 1227.14 1550.57 Q1227.14 1541.82 1231.85 1536.69 Q1236.59 1531.54 1244.62 1531.54 Q1251.81 1531.54 1255.98 1536.18 Q1260.18 1540.8 1260.18 1548.76 M1254.32 1547.04 Q1254.26 1542.23 1251.62 1539.37 Q1249.01 1536.5 1244.68 1536.5 Q1239.78 1536.5 1236.82 1539.27 Q1233.89 1542.04 1233.44 1547.07 L1254.32 1547.04 Z\" fill=\"#000000\" fill-rule=\"nonzero\" fill-opacity=\"1\" /><path clip-path=\"url(#clip330)\" d=\"M1293.25 1549.81 Q1293.25 1543.44 1290.61 1539.94 Q1288 1536.44 1283.26 1536.44 Q1278.54 1536.44 1275.9 1539.94 Q1273.29 1543.44 1273.29 1549.81 Q1273.29 1556.14 1275.9 1559.64 Q1278.54 1563.14 1283.26 1563.14 Q1288 1563.14 1290.61 1559.64 Q1293.25 1556.14 1293.25 1549.81 M1299.11 1563.62 Q1299.11 1572.72 1295.06 1577.15 Q1291.02 1581.6 1282.68 1581.6 Q1279.6 1581.6 1276.86 1581.13 Q1274.12 1580.68 1271.54 1579.72 L1271.54 1574.03 Q1274.12 1575.43 1276.64 1576.1 Q1279.15 1576.76 1281.76 1576.76 Q1287.52 1576.76 1290.39 1573.74 Q1293.25 1570.75 1293.25 1564.67 L1293.25 1561.77 Q1291.44 1564.92 1288.6 1566.48 Q1285.77 1568.04 1281.82 1568.04 Q1275.27 1568.04 1271.26 1563.05 Q1267.25 1558.05 1267.25 1549.81 Q1267.25 1541.53 1271.26 1536.53 Q1275.27 1531.54 1281.82 1531.54 Q1285.77 1531.54 1288.6 1533.1 Q1291.44 1534.66 1293.25 1537.81 L1293.25 1532.4 L1299.11 1532.4 L1299.11 1563.62 Z\" fill=\"#000000\" fill-rule=\"nonzero\" fill-opacity=\"1\" /><path clip-path=\"url(#clip330)\" d=\"M1331.83 1537.87 Q1330.84 1537.3 1329.66 1537.04 Q1328.52 1536.76 1327.12 1536.76 Q1322.15 1536.76 1319.48 1540 Q1316.83 1543.22 1316.83 1549.27 L1316.83 1568.04 L1310.95 1568.04 L1310.95 1532.4 L1316.83 1532.4 L1316.83 1537.93 Q1318.68 1534.69 1321.64 1533.13 Q1324.6 1531.54 1328.83 1531.54 Q1329.44 1531.54 1330.17 1531.63 Q1330.9 1531.7 1331.79 1531.85 L1331.83 1537.87 Z\" fill=\"#000000\" fill-rule=\"nonzero\" fill-opacity=\"1\" /><path clip-path=\"url(#clip330)\" d=\"M1367.03 1548.76 L1367.03 1551.62 L1340.1 1551.62 Q1340.48 1557.67 1343.73 1560.85 Q1347.01 1564 1352.83 1564 Q1356.21 1564 1359.36 1563.17 Q1362.54 1562.35 1365.66 1560.69 L1365.66 1566.23 Q1362.51 1567.57 1359.2 1568.27 Q1355.89 1568.97 1352.48 1568.97 Q1343.95 1568.97 1338.96 1564 Q1333.99 1559.04 1333.99 1550.57 Q1333.99 1541.82 1338.7 1536.69 Q1343.44 1531.54 1351.46 1531.54 Q1358.66 1531.54 1362.83 1536.18 Q1367.03 1540.8 1367.03 1548.76 M1361.17 1547.04 Q1361.11 1542.23 1358.47 1539.37 Q1355.86 1536.5 1351.53 1536.5 Q1346.63 1536.5 1343.67 1539.27 Q1340.74 1542.04 1340.29 1547.07 L1361.17 1547.04 Z\" fill=\"#000000\" fill-rule=\"nonzero\" fill-opacity=\"1\" /><path clip-path=\"url(#clip330)\" d=\"M1407.13 1548.76 L1407.13 1551.62 L1380.21 1551.62 Q1380.59 1557.67 1383.83 1560.85 Q1387.11 1564 1392.94 1564 Q1396.31 1564 1399.46 1563.17 Q1402.64 1562.35 1405.76 1560.69 L1405.76 1566.23 Q1402.61 1567.57 1399.3 1568.27 Q1395.99 1568.97 1392.59 1568.97 Q1384.06 1568.97 1379.06 1564 Q1374.09 1559.04 1374.09 1550.57 Q1374.09 1541.82 1378.8 1536.69 Q1383.55 1531.54 1391.57 1531.54 Q1398.76 1531.54 1402.93 1536.18 Q1407.13 1540.8 1407.13 1548.76 M1401.28 1547.04 Q1401.21 1542.23 1398.57 1539.37 Q1395.96 1536.5 1391.63 1536.5 Q1386.73 1536.5 1383.77 1539.27 Q1380.84 1542.04 1380.4 1547.07 L1401.28 1547.04 Z\" fill=\"#000000\" fill-rule=\"nonzero\" fill-opacity=\"1\" /><polyline clip-path=\"url(#clip330)\" style=\"stroke:#000000; stroke-linecap:round; stroke-linejoin:round; stroke-width:4; stroke-opacity:1; fill:none\" points=\"234.125,1423.18 234.125,123.472 \"/>\n",
       "<polyline clip-path=\"url(#clip330)\" style=\"stroke:#000000; stroke-linecap:round; stroke-linejoin:round; stroke-width:4; stroke-opacity:1; fill:none\" points=\"234.125,1423.18 253.023,1423.18 \"/>\n",
       "<polyline clip-path=\"url(#clip330)\" style=\"stroke:#000000; stroke-linecap:round; stroke-linejoin:round; stroke-width:4; stroke-opacity:1; fill:none\" points=\"234.125,1180.7 253.023,1180.7 \"/>\n",
       "<polyline clip-path=\"url(#clip330)\" style=\"stroke:#000000; stroke-linecap:round; stroke-linejoin:round; stroke-width:4; stroke-opacity:1; fill:none\" points=\"234.125,938.214 253.023,938.214 \"/>\n",
       "<polyline clip-path=\"url(#clip330)\" style=\"stroke:#000000; stroke-linecap:round; stroke-linejoin:round; stroke-width:4; stroke-opacity:1; fill:none\" points=\"234.125,695.731 253.023,695.731 \"/>\n",
       "<polyline clip-path=\"url(#clip330)\" style=\"stroke:#000000; stroke-linecap:round; stroke-linejoin:round; stroke-width:4; stroke-opacity:1; fill:none\" points=\"234.125,453.249 253.023,453.249 \"/>\n",
       "<polyline clip-path=\"url(#clip330)\" style=\"stroke:#000000; stroke-linecap:round; stroke-linejoin:round; stroke-width:4; stroke-opacity:1; fill:none\" points=\"234.125,210.766 253.023,210.766 \"/>\n",
       "<path clip-path=\"url(#clip330)\" d=\"M186.181 1408.98 Q182.57 1408.98 180.741 1412.54 Q178.936 1416.08 178.936 1423.21 Q178.936 1430.32 180.741 1433.89 Q182.57 1437.43 186.181 1437.43 Q189.815 1437.43 191.621 1433.89 Q193.45 1430.32 193.45 1423.21 Q193.45 1416.08 191.621 1412.54 Q189.815 1408.98 186.181 1408.98 M186.181 1405.27 Q191.991 1405.27 195.047 1409.88 Q198.125 1414.46 198.125 1423.21 Q198.125 1431.94 195.047 1436.55 Q191.991 1441.13 186.181 1441.13 Q180.371 1441.13 177.292 1436.55 Q174.237 1431.94 174.237 1423.21 Q174.237 1414.46 177.292 1409.88 Q180.371 1405.27 186.181 1405.27 Z\" fill=\"#000000\" fill-rule=\"nonzero\" fill-opacity=\"1\" /><path clip-path=\"url(#clip330)\" d=\"M146.066 1163.42 L164.422 1163.42 L164.422 1167.35 L150.348 1167.35 L150.348 1175.82 Q151.366 1175.48 152.385 1175.32 Q153.403 1175.13 154.422 1175.13 Q160.209 1175.13 163.589 1178.3 Q166.968 1181.47 166.968 1186.89 Q166.968 1192.47 163.496 1195.57 Q160.024 1198.65 153.704 1198.65 Q151.528 1198.65 149.26 1198.28 Q147.015 1197.91 144.607 1197.17 L144.607 1192.47 Q146.691 1193.6 148.913 1194.16 Q151.135 1194.71 153.612 1194.71 Q157.616 1194.71 159.954 1192.61 Q162.292 1190.5 162.292 1186.89 Q162.292 1183.28 159.954 1181.17 Q157.616 1179.07 153.612 1179.07 Q151.737 1179.07 149.862 1179.48 Q148.01 1179.9 146.066 1180.78 L146.066 1163.42 Z\" fill=\"#000000\" fill-rule=\"nonzero\" fill-opacity=\"1\" /><path clip-path=\"url(#clip330)\" d=\"M186.181 1166.5 Q182.57 1166.5 180.741 1170.06 Q178.936 1173.6 178.936 1180.73 Q178.936 1187.84 180.741 1191.4 Q182.57 1194.94 186.181 1194.94 Q189.815 1194.94 191.621 1191.4 Q193.45 1187.84 193.45 1180.73 Q193.45 1173.6 191.621 1170.06 Q189.815 1166.5 186.181 1166.5 M186.181 1162.79 Q191.991 1162.79 195.047 1167.4 Q198.125 1171.98 198.125 1180.73 Q198.125 1189.46 195.047 1194.07 Q191.991 1198.65 186.181 1198.65 Q180.371 1198.65 177.292 1194.07 Q174.237 1189.46 174.237 1180.73 Q174.237 1171.98 177.292 1167.4 Q180.371 1162.79 186.181 1162.79 Z\" fill=\"#000000\" fill-rule=\"nonzero\" fill-opacity=\"1\" /><path clip-path=\"url(#clip330)\" d=\"M116.668 951.559 L124.306 951.559 L124.306 925.194 L115.996 926.86 L115.996 922.601 L124.26 920.934 L128.936 920.934 L128.936 951.559 L136.575 951.559 L136.575 955.494 L116.668 955.494 L116.668 951.559 Z\" fill=\"#000000\" fill-rule=\"nonzero\" fill-opacity=\"1\" /><path clip-path=\"url(#clip330)\" d=\"M156.019 924.013 Q152.408 924.013 150.579 927.578 Q148.774 931.119 148.774 938.249 Q148.774 945.355 150.579 948.92 Q152.408 952.462 156.019 952.462 Q159.653 952.462 161.459 948.92 Q163.288 945.355 163.288 938.249 Q163.288 931.119 161.459 927.578 Q159.653 924.013 156.019 924.013 M156.019 920.309 Q161.829 920.309 164.885 924.916 Q167.964 929.499 167.964 938.249 Q167.964 946.976 164.885 951.582 Q161.829 956.166 156.019 956.166 Q150.209 956.166 147.13 951.582 Q144.075 946.976 144.075 938.249 Q144.075 929.499 147.13 924.916 Q150.209 920.309 156.019 920.309 Z\" fill=\"#000000\" fill-rule=\"nonzero\" fill-opacity=\"1\" /><path clip-path=\"url(#clip330)\" d=\"M186.181 924.013 Q182.57 924.013 180.741 927.578 Q178.936 931.119 178.936 938.249 Q178.936 945.355 180.741 948.92 Q182.57 952.462 186.181 952.462 Q189.815 952.462 191.621 948.92 Q193.45 945.355 193.45 938.249 Q193.45 931.119 191.621 927.578 Q189.815 924.013 186.181 924.013 M186.181 920.309 Q191.991 920.309 195.047 924.916 Q198.125 929.499 198.125 938.249 Q198.125 946.976 195.047 951.582 Q191.991 956.166 186.181 956.166 Q180.371 956.166 177.292 951.582 Q174.237 946.976 174.237 938.249 Q174.237 929.499 177.292 924.916 Q180.371 920.309 186.181 920.309 Z\" fill=\"#000000\" fill-rule=\"nonzero\" fill-opacity=\"1\" /><path clip-path=\"url(#clip330)\" d=\"M116.668 709.076 L124.306 709.076 L124.306 682.711 L115.996 684.377 L115.996 680.118 L124.26 678.451 L128.936 678.451 L128.936 709.076 L136.575 709.076 L136.575 713.011 L116.668 713.011 L116.668 709.076 Z\" fill=\"#000000\" fill-rule=\"nonzero\" fill-opacity=\"1\" /><path clip-path=\"url(#clip330)\" d=\"M146.066 678.451 L164.422 678.451 L164.422 682.387 L150.348 682.387 L150.348 690.859 Q151.366 690.512 152.385 690.35 Q153.403 690.164 154.422 690.164 Q160.209 690.164 163.589 693.336 Q166.968 696.507 166.968 701.924 Q166.968 707.502 163.496 710.604 Q160.024 713.683 153.704 713.683 Q151.528 713.683 149.26 713.312 Q147.015 712.942 144.607 712.201 L144.607 707.502 Q146.691 708.637 148.913 709.192 Q151.135 709.748 153.612 709.748 Q157.616 709.748 159.954 707.641 Q162.292 705.535 162.292 701.924 Q162.292 698.312 159.954 696.206 Q157.616 694.1 153.612 694.1 Q151.737 694.1 149.862 694.516 Q148.01 694.933 146.066 695.813 L146.066 678.451 Z\" fill=\"#000000\" fill-rule=\"nonzero\" fill-opacity=\"1\" /><path clip-path=\"url(#clip330)\" d=\"M186.181 681.53 Q182.57 681.53 180.741 685.095 Q178.936 688.637 178.936 695.766 Q178.936 702.873 180.741 706.437 Q182.57 709.979 186.181 709.979 Q189.815 709.979 191.621 706.437 Q193.45 702.873 193.45 695.766 Q193.45 688.637 191.621 685.095 Q189.815 681.53 186.181 681.53 M186.181 677.826 Q191.991 677.826 195.047 682.433 Q198.125 687.016 198.125 695.766 Q198.125 704.493 195.047 709.099 Q191.991 713.683 186.181 713.683 Q180.371 713.683 177.292 709.099 Q174.237 704.493 174.237 695.766 Q174.237 687.016 177.292 682.433 Q180.371 677.826 186.181 677.826 Z\" fill=\"#000000\" fill-rule=\"nonzero\" fill-opacity=\"1\" /><path clip-path=\"url(#clip330)\" d=\"M119.885 466.594 L136.204 466.594 L136.204 470.529 L114.26 470.529 L114.26 466.594 Q116.922 463.839 121.505 459.209 Q126.112 454.557 127.292 453.214 Q129.538 450.691 130.417 448.955 Q131.32 447.196 131.32 445.506 Q131.32 442.751 129.376 441.015 Q127.455 439.279 124.353 439.279 Q122.154 439.279 119.7 440.043 Q117.269 440.807 114.492 442.358 L114.492 437.635 Q117.316 436.501 119.769 435.922 Q122.223 435.344 124.26 435.344 Q129.63 435.344 132.825 438.029 Q136.019 440.714 136.019 445.205 Q136.019 447.334 135.209 449.256 Q134.422 451.154 132.316 453.746 Q131.737 454.418 128.635 457.635 Q125.533 460.83 119.885 466.594 Z\" fill=\"#000000\" fill-rule=\"nonzero\" fill-opacity=\"1\" /><path clip-path=\"url(#clip330)\" d=\"M156.019 439.047 Q152.408 439.047 150.579 442.612 Q148.774 446.154 148.774 453.283 Q148.774 460.39 150.579 463.955 Q152.408 467.496 156.019 467.496 Q159.653 467.496 161.459 463.955 Q163.288 460.39 163.288 453.283 Q163.288 446.154 161.459 442.612 Q159.653 439.047 156.019 439.047 M156.019 435.344 Q161.829 435.344 164.885 439.95 Q167.964 444.533 167.964 453.283 Q167.964 462.01 164.885 466.617 Q161.829 471.2 156.019 471.2 Q150.209 471.2 147.13 466.617 Q144.075 462.01 144.075 453.283 Q144.075 444.533 147.13 439.95 Q150.209 435.344 156.019 435.344 Z\" fill=\"#000000\" fill-rule=\"nonzero\" fill-opacity=\"1\" /><path clip-path=\"url(#clip330)\" d=\"M186.181 439.047 Q182.57 439.047 180.741 442.612 Q178.936 446.154 178.936 453.283 Q178.936 460.39 180.741 463.955 Q182.57 467.496 186.181 467.496 Q189.815 467.496 191.621 463.955 Q193.45 460.39 193.45 453.283 Q193.45 446.154 191.621 442.612 Q189.815 439.047 186.181 439.047 M186.181 435.344 Q191.991 435.344 195.047 439.95 Q198.125 444.533 198.125 453.283 Q198.125 462.01 195.047 466.617 Q191.991 471.2 186.181 471.2 Q180.371 471.2 177.292 466.617 Q174.237 462.01 174.237 453.283 Q174.237 444.533 177.292 439.95 Q180.371 435.344 186.181 435.344 Z\" fill=\"#000000\" fill-rule=\"nonzero\" fill-opacity=\"1\" /><path clip-path=\"url(#clip330)\" d=\"M119.885 224.111 L136.204 224.111 L136.204 228.046 L114.26 228.046 L114.26 224.111 Q116.922 221.356 121.505 216.727 Q126.112 212.074 127.292 210.731 Q129.538 208.208 130.417 206.472 Q131.32 204.713 131.32 203.023 Q131.32 200.268 129.376 198.532 Q127.455 196.796 124.353 196.796 Q122.154 196.796 119.7 197.56 Q117.269 198.324 114.492 199.875 L114.492 195.153 Q117.316 194.018 119.769 193.44 Q122.223 192.861 124.26 192.861 Q129.63 192.861 132.825 195.546 Q136.019 198.231 136.019 202.722 Q136.019 204.852 135.209 206.773 Q134.422 208.671 132.316 211.264 Q131.737 211.935 128.635 215.152 Q125.533 218.347 119.885 224.111 Z\" fill=\"#000000\" fill-rule=\"nonzero\" fill-opacity=\"1\" /><path clip-path=\"url(#clip330)\" d=\"M146.066 193.486 L164.422 193.486 L164.422 197.421 L150.348 197.421 L150.348 205.893 Q151.366 205.546 152.385 205.384 Q153.403 205.199 154.422 205.199 Q160.209 205.199 163.589 208.37 Q166.968 211.541 166.968 216.958 Q166.968 222.537 163.496 225.639 Q160.024 228.717 153.704 228.717 Q151.528 228.717 149.26 228.347 Q147.015 227.976 144.607 227.236 L144.607 222.537 Q146.691 223.671 148.913 224.227 Q151.135 224.782 153.612 224.782 Q157.616 224.782 159.954 222.676 Q162.292 220.569 162.292 216.958 Q162.292 213.347 159.954 211.24 Q157.616 209.134 153.612 209.134 Q151.737 209.134 149.862 209.551 Q148.01 209.967 146.066 210.847 L146.066 193.486 Z\" fill=\"#000000\" fill-rule=\"nonzero\" fill-opacity=\"1\" /><path clip-path=\"url(#clip330)\" d=\"M186.181 196.565 Q182.57 196.565 180.741 200.129 Q178.936 203.671 178.936 210.801 Q178.936 217.907 180.741 221.472 Q182.57 225.014 186.181 225.014 Q189.815 225.014 191.621 221.472 Q193.45 217.907 193.45 210.801 Q193.45 203.671 191.621 200.129 Q189.815 196.565 186.181 196.565 M186.181 192.861 Q191.991 192.861 195.047 197.467 Q198.125 202.051 198.125 210.801 Q198.125 219.527 195.047 224.134 Q191.991 228.717 186.181 228.717 Q180.371 228.717 177.292 224.134 Q174.237 219.527 174.237 210.801 Q174.237 202.051 177.292 197.467 Q180.371 192.861 186.181 192.861 Z\" fill=\"#000000\" fill-rule=\"nonzero\" fill-opacity=\"1\" /><path clip-path=\"url(#clip330)\" d=\"M20.1444 829.185 L26.9239 829.185 Q23.9002 832.432 22.4043 836.124 Q20.9083 839.784 20.9083 843.922 Q20.9083 852.07 25.9054 856.398 Q30.8707 860.727 40.2919 860.727 Q49.6813 860.727 54.6784 856.398 Q59.6436 852.07 59.6436 843.922 Q59.6436 839.784 58.1477 836.124 Q56.6518 832.432 53.6281 829.185 L60.3439 829.185 Q62.6355 832.559 63.7814 836.346 Q64.9272 840.102 64.9272 844.304 Q64.9272 855.093 58.3387 861.3 Q51.7183 867.507 40.2919 867.507 Q28.8336 867.507 22.2451 861.3 Q15.6248 855.093 15.6248 844.304 Q15.6248 840.039 16.7706 836.283 Q17.8846 832.495 20.1444 829.185 Z\" fill=\"#000000\" fill-rule=\"nonzero\" fill-opacity=\"1\" /><path clip-path=\"url(#clip330)\" d=\"M32.4621 805.696 Q32.4621 810.406 36.1542 813.143 Q39.8145 815.881 46.212 815.881 Q52.6095 815.881 56.3017 813.175 Q59.9619 810.438 59.9619 805.696 Q59.9619 801.017 56.2698 798.28 Q52.5777 795.542 46.212 795.542 Q39.8781 795.542 36.186 798.28 Q32.4621 801.017 32.4621 805.696 M27.4968 805.696 Q27.4968 798.057 32.4621 793.696 Q37.4273 789.336 46.212 789.336 Q54.9649 789.336 59.9619 793.696 Q64.9272 798.057 64.9272 805.696 Q64.9272 813.366 59.9619 817.727 Q54.9649 822.055 46.212 822.055 Q37.4273 822.055 32.4621 817.727 Q27.4968 813.366 27.4968 805.696 Z\" fill=\"#000000\" fill-rule=\"nonzero\" fill-opacity=\"1\" /><path clip-path=\"url(#clip330)\" d=\"M49.9359 780.233 L28.3562 780.233 L28.3562 774.376 L49.7131 774.376 Q54.7739 774.376 57.3202 772.403 Q59.8346 770.43 59.8346 766.483 Q59.8346 761.74 56.8109 759.003 Q53.7872 756.234 48.5673 756.234 L28.3562 756.234 L28.3562 750.378 L64.0042 750.378 L64.0042 756.234 L58.5296 756.234 Q61.7762 758.367 63.3676 761.199 Q64.9272 764 64.9272 767.724 Q64.9272 773.867 61.1078 777.05 Q57.2883 780.233 49.9359 780.233 M27.4968 765.496 L27.4968 765.496 Z\" fill=\"#000000\" fill-rule=\"nonzero\" fill-opacity=\"1\" /><path clip-path=\"url(#clip330)\" d=\"M42.4881 708.682 L64.0042 708.682 L64.0042 714.539 L42.679 714.539 Q37.6183 714.539 35.1038 716.512 Q32.5894 718.485 32.5894 722.432 Q32.5894 727.175 35.6131 729.912 Q38.6368 732.649 43.8567 732.649 L64.0042 732.649 L64.0042 738.537 L28.3562 738.537 L28.3562 732.649 L33.8944 732.649 Q30.6797 730.548 29.0883 727.716 Q27.4968 724.851 27.4968 721.127 Q27.4968 714.984 31.3163 711.833 Q35.1038 708.682 42.4881 708.682 Z\" fill=\"#000000\" fill-rule=\"nonzero\" fill-opacity=\"1\" /><path clip-path=\"url(#clip330)\" d=\"M18.2347 691.208 L28.3562 691.208 L28.3562 679.145 L32.9077 679.145 L32.9077 691.208 L52.2594 691.208 Q56.6199 691.208 57.8613 690.031 Q59.1026 688.821 59.1026 685.161 L59.1026 679.145 L64.0042 679.145 L64.0042 685.161 Q64.0042 691.94 61.4897 694.519 Q58.9434 697.097 52.2594 697.097 L32.9077 697.097 L32.9077 701.393 L28.3562 701.393 L28.3562 697.097 L18.2347 697.097 L18.2347 691.208 Z\" fill=\"#000000\" fill-rule=\"nonzero\" fill-opacity=\"1\" /><path clip-path=\"url(#clip330)\" d=\"M1166.42 34.1734 Q1165.17 33.4443 1163.67 33.1202 Q1162.21 32.7556 1160.43 32.7556 Q1154.11 32.7556 1150.71 36.8875 Q1147.34 40.9789 1147.34 48.6757 L1147.34 72.576 L1139.85 72.576 L1139.85 27.2059 L1147.34 27.2059 L1147.34 34.2544 Q1149.69 30.1225 1153.46 28.1376 Q1157.23 26.1121 1162.62 26.1121 Q1163.39 26.1121 1164.32 26.2337 Q1165.25 26.3147 1166.38 26.5172 L1166.42 34.1734 Z\" fill=\"#000000\" fill-rule=\"nonzero\" fill-opacity=\"1\" /><path clip-path=\"url(#clip330)\" d=\"M1194.86 49.7694 Q1185.83 49.7694 1182.34 51.8354 Q1178.86 53.9013 1178.86 58.8839 Q1178.86 62.8538 1181.45 65.2034 Q1184.09 67.5124 1188.58 67.5124 Q1194.78 67.5124 1198.51 63.1374 Q1202.28 58.7219 1202.28 51.4303 L1202.28 49.7694 L1194.86 49.7694 M1209.73 46.6907 L1209.73 72.576 L1202.28 72.576 L1202.28 65.6895 Q1199.72 69.8214 1195.92 71.8063 Q1192.11 73.7508 1186.6 73.7508 Q1179.63 73.7508 1175.5 69.8619 Q1171.41 65.9325 1171.41 59.3701 Q1171.41 51.7138 1176.51 47.825 Q1181.66 43.9361 1191.82 43.9361 L1202.28 43.9361 L1202.28 43.2069 Q1202.28 38.0623 1198.87 35.2672 Q1195.51 32.4315 1189.39 32.4315 Q1185.5 32.4315 1181.82 33.3632 Q1178.13 34.295 1174.73 36.1584 L1174.73 29.2718 Q1178.82 27.692 1182.67 26.9223 Q1186.52 26.1121 1190.16 26.1121 Q1200.01 26.1121 1204.87 31.2163 Q1209.73 36.3204 1209.73 46.6907 Z\" fill=\"#000000\" fill-rule=\"nonzero\" fill-opacity=\"1\" /><path clip-path=\"url(#clip330)\" d=\"M1262.8 45.1919 L1262.8 72.576 L1255.34 72.576 L1255.34 45.4349 Q1255.34 38.994 1252.83 35.7938 Q1250.32 32.5936 1245.3 32.5936 Q1239.26 32.5936 1235.78 36.4419 Q1232.29 40.2903 1232.29 46.9338 L1232.29 72.576 L1224.8 72.576 L1224.8 27.2059 L1232.29 27.2059 L1232.29 34.2544 Q1234.97 30.163 1238.57 28.1376 Q1242.22 26.1121 1246.96 26.1121 Q1254.77 26.1121 1258.79 30.9732 Q1262.8 35.7938 1262.8 45.1919 Z\" fill=\"#000000\" fill-rule=\"nonzero\" fill-opacity=\"1\" /><path clip-path=\"url(#clip330)\" d=\"M1307.52 34.0924 L1307.52 9.54393 L1314.97 9.54393 L1314.97 72.576 L1307.52 72.576 L1307.52 65.7705 Q1305.17 69.8214 1301.56 71.8063 Q1298 73.7508 1292.97 73.7508 Q1284.75 73.7508 1279.57 67.1883 Q1274.42 60.6258 1274.42 49.9314 Q1274.42 39.2371 1279.57 32.6746 Q1284.75 26.1121 1292.97 26.1121 Q1298 26.1121 1301.56 28.0971 Q1305.17 30.0415 1307.52 34.0924 M1282.12 49.9314 Q1282.12 58.1548 1285.48 62.8538 Q1288.88 67.5124 1294.8 67.5124 Q1300.71 67.5124 1304.11 62.8538 Q1307.52 58.1548 1307.52 49.9314 Q1307.52 41.7081 1304.11 37.0496 Q1300.71 32.3505 1294.8 32.3505 Q1288.88 32.3505 1285.48 37.0496 Q1282.12 41.7081 1282.12 49.9314 Z\" fill=\"#000000\" fill-rule=\"nonzero\" fill-opacity=\"1\" /><path clip-path=\"url(#clip330)\" d=\"M1347.91 32.4315 Q1341.91 32.4315 1338.43 37.1306 Q1334.94 41.7891 1334.94 49.9314 Q1334.94 58.0738 1338.39 62.7728 Q1341.87 67.4314 1347.91 67.4314 Q1353.86 67.4314 1357.34 62.7323 Q1360.83 58.0333 1360.83 49.9314 Q1360.83 41.8701 1357.34 37.1711 Q1353.86 32.4315 1347.91 32.4315 M1347.91 26.1121 Q1357.63 26.1121 1363.18 32.4315 Q1368.73 38.7509 1368.73 49.9314 Q1368.73 61.0714 1363.18 67.4314 Q1357.63 73.7508 1347.91 73.7508 Q1338.14 73.7508 1332.59 67.4314 Q1327.08 61.0714 1327.08 49.9314 Q1327.08 38.7509 1332.59 32.4315 Q1338.14 26.1121 1347.91 26.1121 Z\" fill=\"#000000\" fill-rule=\"nonzero\" fill-opacity=\"1\" /><path clip-path=\"url(#clip330)\" d=\"M1416.41 35.9153 Q1419.2 30.8922 1423.09 28.5022 Q1426.98 26.1121 1432.24 26.1121 Q1439.33 26.1121 1443.18 31.0947 Q1447.03 36.0368 1447.03 45.1919 L1447.03 72.576 L1439.54 72.576 L1439.54 45.4349 Q1439.54 38.913 1437.23 35.7533 Q1434.92 32.5936 1430.18 32.5936 Q1424.39 32.5936 1421.02 36.4419 Q1417.66 40.2903 1417.66 46.9338 L1417.66 72.576 L1410.17 72.576 L1410.17 45.4349 Q1410.17 38.8725 1407.86 35.7533 Q1405.55 32.5936 1400.73 32.5936 Q1395.02 32.5936 1391.65 36.4824 Q1388.29 40.3308 1388.29 46.9338 L1388.29 72.576 L1380.8 72.576 L1380.8 27.2059 L1388.29 27.2059 L1388.29 34.2544 Q1390.84 30.082 1394.41 28.0971 Q1397.97 26.1121 1402.88 26.1121 Q1407.82 26.1121 1411.26 28.6237 Q1414.75 31.1352 1416.41 35.9153 Z\" fill=\"#000000\" fill-rule=\"nonzero\" fill-opacity=\"1\" /><path clip-path=\"url(#clip332)\" d=\"M350.654 729.679 L350.654 1423.18 L522.07 1423.18 L522.07 729.679 L350.654 729.679 L350.654 729.679  Z\" fill=\"#009af9\" fill-rule=\"evenodd\" fill-opacity=\"1\"/>\n",
       "<polyline clip-path=\"url(#clip332)\" style=\"stroke:#000000; stroke-linecap:round; stroke-linejoin:round; stroke-width:4; stroke-opacity:1; fill:none\" points=\"350.654,729.679 350.654,1423.18 522.07,1423.18 522.07,729.679 350.654,729.679 \"/>\n",
       "<path clip-path=\"url(#clip332)\" d=\"M1422 1258.29 L1422 1423.18 L1593.42 1423.18 L1593.42 1258.29 L1422 1258.29 L1422 1258.29  Z\" fill=\"#009af9\" fill-rule=\"evenodd\" fill-opacity=\"1\"/>\n",
       "<polyline clip-path=\"url(#clip332)\" style=\"stroke:#000000; stroke-linecap:round; stroke-linejoin:round; stroke-width:4; stroke-opacity:1; fill:none\" points=\"1422,1258.29 1422,1423.18 1593.42,1423.18 1593.42,1258.29 1422,1258.29 \"/>\n",
       "<path clip-path=\"url(#clip332)\" d=\"M1207.73 972.162 L1207.73 1423.18 L1379.15 1423.18 L1379.15 972.162 L1207.73 972.162 L1207.73 972.162  Z\" fill=\"#009af9\" fill-rule=\"evenodd\" fill-opacity=\"1\"/>\n",
       "<polyline clip-path=\"url(#clip332)\" style=\"stroke:#000000; stroke-linecap:round; stroke-linejoin:round; stroke-width:4; stroke-opacity:1; fill:none\" points=\"1207.73,972.162 1207.73,1423.18 1379.15,1423.18 1379.15,972.162 1207.73,972.162 \"/>\n",
       "<path clip-path=\"url(#clip332)\" d=\"M1636.27 1364.98 L1636.27 1423.18 L1807.69 1423.18 L1807.69 1364.98 L1636.27 1364.98 L1636.27 1364.98  Z\" fill=\"#009af9\" fill-rule=\"evenodd\" fill-opacity=\"1\"/>\n",
       "<polyline clip-path=\"url(#clip332)\" style=\"stroke:#000000; stroke-linecap:round; stroke-linejoin:round; stroke-width:4; stroke-opacity:1; fill:none\" points=\"1636.27,1364.98 1636.27,1423.18 1807.69,1423.18 1807.69,1364.98 1636.27,1364.98 \"/>\n",
       "<path clip-path=\"url(#clip332)\" d=\"M779.193 123.472 L779.193 1423.18 L950.609 1423.18 L950.609 123.472 L779.193 123.472 L779.193 123.472  Z\" fill=\"#009af9\" fill-rule=\"evenodd\" fill-opacity=\"1\"/>\n",
       "<polyline clip-path=\"url(#clip332)\" style=\"stroke:#000000; stroke-linecap:round; stroke-linejoin:round; stroke-width:4; stroke-opacity:1; fill:none\" points=\"779.193,123.472 779.193,1423.18 950.609,1423.18 950.609,123.472 779.193,123.472 \"/>\n",
       "<path clip-path=\"url(#clip332)\" d=\"M1850.54 1394.08 L1850.54 1423.18 L2021.96 1423.18 L2021.96 1394.08 L1850.54 1394.08 L1850.54 1394.08  Z\" fill=\"#009af9\" fill-rule=\"evenodd\" fill-opacity=\"1\"/>\n",
       "<polyline clip-path=\"url(#clip332)\" style=\"stroke:#000000; stroke-linecap:round; stroke-linejoin:round; stroke-width:4; stroke-opacity:1; fill:none\" points=\"1850.54,1394.08 1850.54,1423.18 2021.96,1423.18 2021.96,1394.08 1850.54,1394.08 \"/>\n",
       "<path clip-path=\"url(#clip332)\" d=\"M2064.81 1413.48 L2064.81 1423.18 L2236.23 1423.18 L2236.23 1413.48 L2064.81 1413.48 L2064.81 1413.48  Z\" fill=\"#009af9\" fill-rule=\"evenodd\" fill-opacity=\"1\"/>\n",
       "<polyline clip-path=\"url(#clip332)\" style=\"stroke:#000000; stroke-linecap:round; stroke-linejoin:round; stroke-width:4; stroke-opacity:1; fill:none\" points=\"2064.81,1413.48 2064.81,1423.18 2236.23,1423.18 2236.23,1413.48 2064.81,1413.48 \"/>\n",
       "<path clip-path=\"url(#clip332)\" d=\"M993.463 579.34 L993.463 1423.18 L1164.88 1423.18 L1164.88 579.34 L993.463 579.34 L993.463 579.34  Z\" fill=\"#009af9\" fill-rule=\"evenodd\" fill-opacity=\"1\"/>\n",
       "<polyline clip-path=\"url(#clip332)\" style=\"stroke:#000000; stroke-linecap:round; stroke-linejoin:round; stroke-width:4; stroke-opacity:1; fill:none\" points=\"993.463,579.34 993.463,1423.18 1164.88,1423.18 1164.88,579.34 993.463,579.34 \"/>\n",
       "<path clip-path=\"url(#clip332)\" d=\"M564.924 123.472 L564.924 1423.18 L736.339 1423.18 L736.339 123.472 L564.924 123.472 L564.924 123.472  Z\" fill=\"#009af9\" fill-rule=\"evenodd\" fill-opacity=\"1\"/>\n",
       "<polyline clip-path=\"url(#clip332)\" style=\"stroke:#000000; stroke-linecap:round; stroke-linejoin:round; stroke-width:4; stroke-opacity:1; fill:none\" points=\"564.924,123.472 564.924,1423.18 736.339,1423.18 736.339,123.472 564.924,123.472 \"/>\n",
       "<circle clip-path=\"url(#clip332)\" style=\"fill:#009af9; stroke:none; fill-opacity:0\" cx=\"436.362\" cy=\"729.679\" r=\"2\"/>\n",
       "<circle clip-path=\"url(#clip332)\" style=\"fill:#009af9; stroke:none; fill-opacity:0\" cx=\"1507.71\" cy=\"1258.29\" r=\"2\"/>\n",
       "<circle clip-path=\"url(#clip332)\" style=\"fill:#009af9; stroke:none; fill-opacity:0\" cx=\"1293.44\" cy=\"972.162\" r=\"2\"/>\n",
       "<circle clip-path=\"url(#clip332)\" style=\"fill:#009af9; stroke:none; fill-opacity:0\" cx=\"1721.98\" cy=\"1364.98\" r=\"2\"/>\n",
       "<circle clip-path=\"url(#clip332)\" style=\"fill:#009af9; stroke:none; fill-opacity:0\" cx=\"864.901\" cy=\"123.472\" r=\"2\"/>\n",
       "<circle clip-path=\"url(#clip332)\" style=\"fill:#009af9; stroke:none; fill-opacity:0\" cx=\"1936.25\" cy=\"1394.08\" r=\"2\"/>\n",
       "<circle clip-path=\"url(#clip332)\" style=\"fill:#009af9; stroke:none; fill-opacity:0\" cx=\"2150.52\" cy=\"1413.48\" r=\"2\"/>\n",
       "<circle clip-path=\"url(#clip332)\" style=\"fill:#009af9; stroke:none; fill-opacity:0\" cx=\"1079.17\" cy=\"579.34\" r=\"2\"/>\n",
       "<circle clip-path=\"url(#clip332)\" style=\"fill:#009af9; stroke:none; fill-opacity:0\" cx=\"650.632\" cy=\"123.472\" r=\"2\"/>\n",
       "</svg>\n"
      ]
     },
     "metadata": {},
     "output_type": "display_data"
    },
    {
     "data": {
      "text/plain": [
       "\"c:\\\\Users\\\\Leonard\\\\julia-workspace\\\\espidam-tutorial-2025\\\\figures\\\\plotdegdist_random_mdeg_2_nn_1000_disp_0.1_pat0_random_hirisk_random_hr_frac_0.1_trans_0.1.pdf\""
      ]
     },
     "metadata": {},
     "output_type": "display_data"
    }
   ],
   "source": [
    "include(\"src/plotting.jl\")\n",
    "\n",
    "# Plot the degree distribution using our stored degree distribution data\n",
    "plotdegdist = plot_degree_distribution(graph_analysis[\"degree_distribution\"], model.network_type)\n",
    "display(plotdegdist)\n",
    "savefig(plotdegdist, \"figures/plotdegdist_$(model.network_type)_mdeg_$(model.mean_degree).pdf\")\n",
    "\n",
    "# Plot centrality distribution\n",
    "p1 = histogram(graph_analysis[\"centrality\"].degree_centrality, title=\"Degree Centrality\", legend=false)\n",
    "p2 = histogram(graph_analysis[\"centrality\"].betweenness_centrality, title=\"Betweenness Centrality\", legend=false)\n",
    "p3 = histogram(graph_analysis[\"centrality\"].closeness_centrality, title=\"Closeness Centrality\", legend=false)\n",
    "p4 = histogram(graph_analysis[\"centrality\"].eigenvector_centrality, title=\"Eigenvector Centrality\", legend=false)\n",
    "\n",
    "plot(p1, p2, p3, p4, layout=(2,2), size=(800, 600))"
   ]
  },
  {
   "cell_type": "code",
   "execution_count": null,
   "id": "77830968-6d08-4dbc-a5f5-27adaf5128c9",
   "metadata": {
    "scrolled": true
   },
   "outputs": [],
   "source": [
    "# specify \"adata\" (agent data to collect) and \"mdata\" (model data to collect)\n",
    "adata = [:status]\n",
    "mdata = [:susceptible_count, :infected_count, :recovered_count]\n",
    "\n",
    "adf, mdf = run!(model, 100; adata, mdata)"
   ]
  },
  {
   "cell_type": "code",
   "execution_count": null,
   "id": "64902c06-f931-40b3-be82-8ea8e3df4baa",
   "metadata": {},
   "outputs": [],
   "source": [
    "plotdynamics = plot_epidemic_trajectories(mdf)\n",
    "display(plotdynamics)\n",
    "savefig(plotdynamics, \"figures/plotdynamics_$(model.network_type)_mdeg_$(model.mean_degree)_nn_$(model.n_nodes)_disp_$(model.dispersion)_pat0_$(model.patient_zero)_hirisk_$(model.high_risk)_hr_frac_$(model.fraction_high_risk)_trans_$(model.trans_prob).pdf\")\n"
   ]
  },
  {
   "cell_type": "code",
   "execution_count": null,
   "id": "0eec13af-4736-4b4c-a19c-3b1094af2894",
   "metadata": {},
   "outputs": [],
   "source": [
    "# for easier comparison, we plot the same scenario for all network types (initializes and runs model)\n",
    "plot_single_run(; network_type=:random, mean_degree=2)\n",
    "plot_single_run(; network_type=:smallworld, mean_degree=2)\n",
    "plot_single_run(; network_type=:preferentialattachment, mean_degree=2)\n",
    "plot_single_run(; network_type=:configuration, mean_degree=2)\n",
    "plot_single_run(; network_type=:proportionatemixing, mean_degree=2)"
   ]
  },
  {
   "cell_type": "code",
   "execution_count": null,
   "id": "9b3f76ff-0c6f-4885-80d9-86e4f27b14e7",
   "metadata": {},
   "outputs": [],
   "source": [
    "include(\"src/run_simulations.jl\")"
   ]
  },
  {
   "cell_type": "markdown",
   "id": "3a6d1472-0651-43b2-9e39-348d23f1c5b8",
   "metadata": {},
   "source": [
    "$x=a*y$"
   ]
  },
  {
   "cell_type": "code",
   "execution_count": null,
   "id": "426ed11c-5b27-451f-9a2f-0fe54514e64d",
   "metadata": {},
   "outputs": [],
   "source": [
    "# Run the simulation multiple times with different seeds (100 times), output results to file and plot\n",
    "run_and_plot(; plot_type=:sfr, network_type=:preferentialattachment, patient_zero=:maxdegree, mean_degree=2)"
   ]
  },
  {
   "cell_type": "code",
   "execution_count": null,
   "id": "4d983873-52f6-4aff-828b-ba5b03b57205",
   "metadata": {},
   "outputs": [],
   "source": []
  }
 ],
 "metadata": {
  "kernelspec": {
   "display_name": "Julia 1.11.4",
   "language": "julia",
   "name": "julia-1.11"
  },
  "language_info": {
   "file_extension": ".jl",
   "mimetype": "application/julia",
   "name": "julia",
   "version": "1.11.4"
  }
 },
 "nbformat": 4,
 "nbformat_minor": 5
}
