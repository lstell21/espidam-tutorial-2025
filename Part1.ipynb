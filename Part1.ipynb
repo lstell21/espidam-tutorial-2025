{
 "cells": [
  {
   "cell_type": "markdown",
   "id": "ba32e74e-fb64-4ec9-a855-1c28444866b0",
   "metadata": {},
   "source": [
    "# Network Types and Epidemic Modeling (Part 1)\n",
    "\n",
    "## Introduction\n",
    "\n",
    "This tutorial explores how **network structure** affects epidemic spread.\n",
    "\n",
    "We will:\n",
    "\n",
    "- **Examine different types of networks**\n",
    "- **Simulate disease spread** using an agent-based SIR model\n",
    "- **Compare network structures** via:\n",
    "  - Degree distribution\n",
    "  - Centrality measures\n",
    "- **Evaluate epidemic outcomes:**\n",
    "  - Final size\n",
    "  - Duration\n",
    "  - Peak prevalence\n",
    "\n",
    "## Setup\n",
    "\n",
    "To organize our workflow, we will create the following directory structure:\n",
    "\n",
    "- `data/` — stores additional output files and datasets\n",
    "- `figures/` — contains all generated figures\n",
    "- `output/` — holds final result files\n",
    "\n",
    "All results and visualizations will be saved in these directories for easy access and reproducibility."
   ]
  },
  {
   "cell_type": "code",
   "execution_count": null,
   "id": "b6d7476e-b269-4431-8ae8-59e7c13c9587",
   "metadata": {},
   "outputs": [],
   "source": [
    "# Navigate to the directory containing this file\n",
    "    cd(@__DIR__)\n",
    "\n",
    "# Create directories if they don't exist\n",
    "    if !isdir(\"data\")\n",
    "        mkdir(\"data\")\n",
    "    end\n",
    "    if !isdir(\"figures\")\n",
    "        mkdir(\"figures\")\n",
    "    end\n",
    "    if !isdir(\"output\")\n",
    "        mkdir(\"output\")\n",
    "    end"
   ]
  },
  {
   "cell_type": "markdown",
   "id": "8cacc183-5149-4cc9-a40a-ae9a1e6ddfd2",
   "metadata": {},
   "source": [
    "Next, we activate the current directory as the environment for Pkg and import the required packages. This might take some time."
   ]
  },
  {
   "cell_type": "code",
   "execution_count": null,
   "id": "1f8c4f71-4999-4893-9bf4-edc6ff1159b5",
   "metadata": {},
   "outputs": [],
   "source": [
    " # Import the Pkg module, activate the current directory as the environment for Pkg, instantiate the environment\n",
    "    using Pkg\n",
    "    Pkg.activate(@__DIR__)\n",
    "    Pkg.instantiate()\n",
    "\n",
    "  # Import the necessary packages\n",
    "    using Agents, Graphs, Random, Plots, DataFrames, CSV, CategoricalArrays, Statistics, StatsBase, StatsPlots, Distributions, Measures"
   ]
  },
  {
   "cell_type": "markdown",
   "id": "c4df6ed7-df5d-4e35-afd6-e13b38364b31",
   "metadata": {},
   "source": [
    "## Model Definition\n",
    "\n",
    "The model is modular, with key components defined in separate source files:\n",
    "\n",
    "1. **`create_graph.jl`**  \n",
    "    *Constructs the network structure with a specified number of nodes (default: 1000) and topology.*\n",
    "\n",
    "2. **`initialize.jl`**  \n",
    "    *Handles model initialization, including agent placement and parameter setup.*\n",
    "\n",
    "3. **`agent_step.jl`**  \n",
    "    *Specifies the actions and transitions for each agent at every time step.*\n",
    "\n",
    "4. **`model_step!`**  \n",
    "    *Aggregates and records the number of individuals in each disease state (S, I, R).*\n",
    "\n",
    "---\n",
    "\n",
    "**Agent properties:**\n",
    "\n",
    "- **Infection status:**  \n",
    "  Susceptible (`S`), Infected (`I`), or Recovered (`R`)\n",
    "- **Infection age:**  \n",
    "  Number of days since infection\n",
    "- **Risk category:**  \n",
    "  Low or high risk\n",
    "\n",
    "This modular approach enables flexible experimentation with different network structures and epidemic parameters."
   ]
  },
  {
   "cell_type": "code",
   "execution_count": null,
   "id": "2278c002-965a-4d9c-a381-8b2a7c267c5e",
   "metadata": {},
   "outputs": [],
   "source": [
    "\n",
    "include(\"src/create_graph.jl\")\n",
    "\n",
    "# Agent creation: agents of type Person and properties status, days_infected and risk\n",
    "@agent struct Person(GraphAgent)\n",
    "    status::Symbol = :S #((S)usceptible, (I)nfected, (R)ecovered)\n",
    "    days_infected::Int = 0 # number of days since infection\n",
    "    risk::Symbol = :high # something to differentiate agents (here, high and low risk)\n",
    "end\n",
    "\n",
    "include(\"src/initialize.jl\")\n",
    "include(\"src/agent_step.jl\")\n",
    "\n",
    "# Model step: keep track of the infection numbers\n",
    "function model_step!(model::ABM)\n",
    "    model.susceptible_count = sum([model[i].status == :S for i in 1:nv(model.graph)])\n",
    "    model.infected_count = sum([model[i].status == :I for i in 1:nv(model.graph)])\n",
    "    model.recovered_count = sum([model[i].status == :R for i in 1:nv(model.graph)])\n",
    "end"
   ]
  },
  {
   "cell_type": "markdown",
   "id": "35e48f74-b5eb-4924-bb8b-87a45a41fc9f",
   "metadata": {},
   "source": [
    "## Model Setup\n",
    "\n",
    "Now let's set up the model for our investigation. In the initialization function, we can configure the following parameters:\n",
    "\n",
    "### Key Parameters:\n",
    "\n",
    "- **Network Type** (`network_type`): The structure of the network\n",
    "- **Infection Seed** (`patient_zero`): Initial location of infection introduction. Options include:\n",
    "  - `:random`: A randomly selected node (default)\n",
    "  - `:maxdegree`: The node with the highest number of connections\n",
    "  - `:maxbetweenness`: The node with highest betweenness centrality (most common on shortest paths)\n",
    "  - `:maxeigenvector`: The node with highest eigenvector centrality (most connected to other well-connected nodes)\n",
    "- **High-Risk Proportion** (`fraction_high_risk`): Fraction of population in high-risk category (used in Part 2)\n",
    "- **Mean Degree** (`mean_degree`): Average connections per node\n",
    "\n",
    "### Available Network Types:\n",
    "\n",
    "| Type | Description |\n",
    "|------|-------------|\n",
    "| **Random** (`:random`) | Equal probability of connection between any nodes |\n",
    "| **Small-World** (`:smallworld`) | High clustering with short average path lengths |\n",
    "| **Preferential Attachment** (`:preferential`) | Scale-free networks with highly-connected hubs |\n",
    "| **Configuration Model** (`:configuration`) (used in Part 2) | Specified degree distribution |\n",
    "| **Proportionate Mixing** (`:proportionate`) (used in Part 2) | Specified distribution of agents with different properties |\n",
    "\n",
    "</br>\n",
    "\n",
    "> **Note:** The next four cells are all using the model initialized here."
   ]
  },
  {
   "cell_type": "code",
   "execution_count": null,
   "id": "a3de80d0-2bf7-41c3-bf47-b585ae639a62",
   "metadata": {},
   "outputs": [],
   "source": [
    "# Initialization: initialize the model with the chosen parameters: network_type, patient_zero, mean_degree\n",
    "model = initialize(; network_type=:random, patient_zero=:maxdegree, mean_degree=4)"
   ]
  },
  {
   "cell_type": "markdown",
   "id": "8ef944d2",
   "metadata": {},
   "source": [
    "## Network Analysis\n",
    "\n",
    "This is based upon the initialized model above. The constructed network can be analyzed using our `analyze_graph` function, which returns a comprehensive set of network metrics:\n",
    "\n",
    "### Calculated Metrics:\n",
    "\n",
    "| **Category**            | **Metrics**                                                                 |\n",
    "|-------------------------|-----------------------------------------------------------------------------|\n",
    "| **Basic properties**    | Density, Mean degree, Clustering coefficient, Assortativity                 |\n",
    "| **Component analysis**  | Number of connected components, Size distribution of components              |\n",
    "| **Centrality measures** | Degree centrality, Betweenness centrality, Closeness centrality, Eigenvector centrality |\n",
    "| **Structural properties** | Degree distribution, Maximal cliques, Network diameter                    |\n",
    "\n",
    "Results are organized in a dictionary with easily accessible components for further analysis and visualization."
   ]
  },
  {
   "cell_type": "code",
   "execution_count": null,
   "id": "22293955-eac6-44cf-9b6a-f05d0005d6de",
   "metadata": {},
   "outputs": [],
   "source": [
    "\n",
    "include(\"src/analyze_graph.jl\")\n",
    "\n",
    "# Analyze the graph\n",
    "graph_analysis = analyze_graph(model.graph)\n",
    "\n",
    "# Display the analysis results\n",
    "analysis_display = print_graph_analysis(graph_analysis)\n",
    "\n",
    "# Display each component of the analysis\n",
    "display(\"Graph Summary Metrics\")\n",
    "display(analysis_display.summary)\n",
    "\n",
    "display(\"Centrality Measures Statistics\")\n",
    "display(analysis_display.centrality)\n",
    "\n",
    "display(\"Component Size Summary\")\n",
    "display(analysis_display.component_summary)\n",
    "\n",
    "# Save the centrality measures to a CSV file for further analysis\n",
    "CSV.write(\"data/centrality_$(model.network_type)_mdeg_$(model.mean_degree).csv\", graph_analysis[\"centrality\"]);\n",
    "\n",
    "# Save summary metrics to a CSV file\n",
    "CSV.write(\"data/graph_summary_$(model.network_type)_mdeg_$(model.mean_degree).csv\", graph_analysis[\"summary\"]);"
   ]
  },
  {
   "cell_type": "markdown",
   "id": "284a86e9",
   "metadata": {},
   "source": [
    "## Network Visualization and Analysis\n",
    "\n",
    "This is also based upon the initialized model above. We can use the results from our network analysis to create visualizations that help us understand the network structure. We'll examine:\n",
    "\n",
    "1. **Degree distribution** - The frequency of nodes with different numbers of connections\n",
    "2. **Centrality measures** - How these relate to epidemic dynamics\n",
    "\n",
    "These visualizations provide insights into network properties that influence disease spread."
   ]
  },
  {
   "cell_type": "code",
   "execution_count": null,
   "id": "951e5992-73c5-419d-96e5-a834931f95c5",
   "metadata": {},
   "outputs": [],
   "source": [
    "\n",
    "include(\"src/plotting.jl\")\n",
    "\n",
    "# Plot the degree distribution using our stored degree distribution data\n",
    "plotdegdist = plot_degree_distribution(graph_analysis[\"degree_distribution\"]; network_type=model.network_type)\n",
    "display(plotdegdist)\n",
    "savefig(plotdegdist, \"figures/plotdegdist_$(model.network_type)_mdeg_$(model.mean_degree).pdf\")\n",
    "\n",
    "# Plot centrality distribution\n",
    "p1 = histogram(graph_analysis[\"centrality\"].degree_centrality, title=\"Degree Centrality ($(model.network_type))\", legend=false)\n",
    "p2 = histogram(graph_analysis[\"centrality\"].betweenness_centrality, title=\"Betweenness Centrality ($(model.network_type))\", legend=false)\n",
    "p3 = histogram(graph_analysis[\"centrality\"].closeness_centrality, title=\"Closeness Centrality ($(model.network_type))\", legend=false)\n",
    "p4 = histogram(graph_analysis[\"centrality\"].eigenvector_centrality, title=\"Eigenvector Centrality ($(model.network_type))\", legend=false)\n",
    "\n",
    "centrality_plot = plot(p1, p2, p3, p4, layout=(2,2), size=(1000, 600))\n",
    "display(centrality_plot)\n",
    "savefig(centrality_plot, \"figures/centrality_$(model.network_type)_mdeg_$(model.mean_degree).pdf\");"
   ]
  },
  {
   "cell_type": "markdown",
   "id": "c894ca10",
   "metadata": {},
   "source": [
    "## SIR Dynamics on the Random Network\n",
    "\n",
    "This, again, is based upon the initialized model above. To simulate the SIR dynamics, we use the `run!` function with the following parameters:\n",
    "\n",
    "- **Model**: Our initialized network model\n",
    "- **Duration**: Number of days to simulate\n",
    "- **Data collection**:\n",
    "  - `adata`: Agent-level data (infection status)\n",
    "  - `mdata`: Model-level data (counts of S, I, R agents)\n",
    "\n",
    "The simulation updates each agent's status based on interactions with their neighbors, following the rules defined in our agent_step.jl file. We run the model for 100 time steps.\n",
    "\n",
    "Results are stored in DataFrames `adf` (agent data) and `mdf` (model data) for further analysis."
   ]
  },
  {
   "cell_type": "code",
   "execution_count": null,
   "id": "77830968-6d08-4dbc-a5f5-27adaf5128c9",
   "metadata": {
    "scrolled": true
   },
   "outputs": [],
   "source": [
    "# specify \"adata\" (agent data to collect) and \"mdata\" (model data to collect)\n",
    "adata = [:status]\n",
    "mdata = [:susceptible_count, :infected_count, :recovered_count]\n",
    "\n",
    "adf, mdf = run!(model, 100; adata, mdata);"
   ]
  },
  {
   "cell_type": "markdown",
   "id": "4c643575",
   "metadata": {},
   "source": [
    "## Epidemic Trajectory Visualization\n",
    "\n",
    "Again, we use the model initialized above. The plot below illustrates the epidemic trajectories over time:\n",
    "\n",
    "- **Susceptible**: Decreases as the infection spreads.\n",
    "- **Infected**: Rises and falls as individuals become infected and then recover.\n",
    "- **Recovered**: Increases as infected individuals recover.\n",
    "\n",
    "Saved plot filename includes:\n",
    "- *Network type: (e.g., `random`, `smallworld`, etc.)*\n",
    "- *Mean degree*\n",
    "- *Network size:* (number of nodes)\n",
    "- *Dispersion parameter*\n",
    "- *Patient zero selection method*\n",
    "- *Risk parameters*\n",
    "- *Transmission probability*"
   ]
  },
  {
   "cell_type": "code",
   "execution_count": null,
   "id": "64902c06-f931-40b3-be82-8ea8e3df4baa",
   "metadata": {},
   "outputs": [],
   "source": [
    "plotdynamics = plot_epidemic_trajectories(mdf, model.network_type)\n",
    "display(plotdynamics)\n",
    "savefig(plotdynamics, \"figures/plotdynamics_$(model.network_type)_mdeg_$(model.mean_degree)_nn_$(model.n_nodes)_disp_$(model.dispersion)_pat0_$(model.patient_zero)_hirisk_$(model.high_risk)_hr_frac_$(model.fraction_high_risk)_trans_$(model.trans_prob).pdf\");"
   ]
  },
  {
   "cell_type": "markdown",
   "id": "86b4ae4b",
   "metadata": {},
   "source": [
    "## Single Run Visualization\n",
    "\n",
    "Let's run a single simulation and examine both:\n",
    "1. The epidemic dynamics plot (showing S, I, R counts over time)\n",
    "2. The degree distribution plot (showing network connectivity patterns)\n",
    "\n",
    "The `plot_single_run` function automatically initializes a new model with the specified parameters and returns both individual plots and a combined visualization, making it easy to analyze relationships between network structure and disease spread. The combined figures is saved in the `figures` directory.\n",
    "\n",
    "> **Note:** Starting from here, a new model is initialized automatically using the provided parameters."
   ]
  },
  {
   "cell_type": "code",
   "execution_count": null,
   "id": "0614d794",
   "metadata": {},
   "outputs": [],
   "source": [
    "# Get both plots from plot_single_run\n",
    "dynamics_plot, degdist_plot, combined_plot = plot_single_run(; network_type=:preferential, mean_degree=4)\n",
    "\n",
    "display(combined_plot)"
   ]
  },
  {
   "cell_type": "markdown",
   "id": "77b5de78",
   "metadata": {},
   "source": [
    "## Multiple Run Analysis\n",
    "\n",
    "The `run_and_plot_comparison` function generates three key epidemic metrics across multiple simulation runs (100 in this case):\n",
    "\n",
    "1. **Epidemic Duration**: Time from first to last infection\n",
    "   - *Longer durations* may indicate slower but persistent spread\n",
    "\n",
    "2. **Maximum Infected**: Peak number of simultaneous infections\n",
    "   - *Higher peaks* suggest rapid spread that could overwhelm healthcare systems\n",
    "\n",
    "3. **Susceptible Fraction Remaining**: Population proportion that escapes infection\n",
    "   - *Lower values* indicate more complete spread through the population\n",
    "\n",
    "These metrics help quantify how network structure influences epidemic outcomes, with results automatically saved to the figures directory.\n",
    "\n",
    "> **Note:** Outliers are not shown in the boxplots."
   ]
  },
  {
   "cell_type": "code",
   "execution_count": null,
   "id": "426ed11c-5b27-451f-9a2f-0fe54514e64d",
   "metadata": {},
   "outputs": [],
   "source": [
    "include(\"src/run_simulations.jl\")\n",
    "include(\"src/plotting.jl\")\n",
    "# Run simulations for multiple network types and compare their epidemic outcomes\n",
    "\n",
    "combined_comparison = run_and_plot_comparison(\n",
    "    network_types=[:random],\n",
    "    mean_degree=4\n",
    "    );\n",
    "\n",
    "# Display the combined comparison plot\n",
    "display(combined_comparison)"
   ]
  },
  {
   "cell_type": "markdown",
   "id": "1898e3f8",
   "metadata": {},
   "source": [
    "## Comparing Different Network Types\n",
    "\n",
    "To understand how network structure influences epidemic dynamics, we can directly compare multiple network types side by side. By passing a vector of network types (e.g., `[:random, :preferential, :smallworld]`) to the simulation and plotting functions, we generate results for each network under identical conditions.\n",
    "\n",
    "This approach allows us to:\n",
    "\n",
    "- **Visualize epidemic trajectories** for each network type on the same axes\n",
    "- **Compare key epidemic metrics** (such as duration, peak prevalence, and final size) across network structures\n",
    "- **Identify structural features** (like clustering or degree distribution) that impact disease spread\n",
    "\n",
    "Such comparisons highlight how properties unique to each network—such as the presence of hubs in preferential attachment networks or high clustering in small-world networks—can accelerate or slow down epidemic spread. This insight is crucial for designing effective intervention strategies tailored to specific contact patterns."
   ]
  },
  {
   "cell_type": "code",
   "execution_count": null,
   "id": "988cc698",
   "metadata": {},
   "outputs": [],
   "source": [
    "# Run simulations for multiple network types and compare their epidemic outcomes\n",
    "combined_comparison = run_and_plot_comparison(\n",
    "    network_types=[:random, :preferential, :smallworld],\n",
    "    mean_degree=4,\n",
    ");\n",
    "\n",
    "# Display the combined comparison plot\n",
    "display(combined_comparison)"
   ]
  },
  {
   "cell_type": "markdown",
   "id": "71c7079a",
   "metadata": {},
   "source": [
    "## Network Metrics Comparison\n",
    "\n",
    "Different network topologies possess distinct structural properties that influence disease transmission dynamics. We can visualize these differences using a chart that compares key metrics across network types:\n",
    "\n",
    "### Structural Metrics:\n",
    "- **Density**: Ratio of actual connections to all possible connections\n",
    "- **Clustering coefficient**: Tendency of nodes to form tightly-knit groups\n",
    "- **Assortativity**: Correlation between degrees of connected nodes\n",
    "  - *Positive*: Similar-degree nodes connect (homophily)\n",
    "  - *Negative*: Dissimilar-degree nodes connect (heterophily)\n",
    "\n",
    "### Centrality Metrics:\n",
    "- **Degree centrality**: Number of direct connections\n",
    "- **Betweenness centrality**: Frequency of node appearing on shortest paths\n",
    "- **Closeness centrality**: Average distance to all other nodes\n",
    "- **Eigenvector centrality**: Connection to other important nodes\n",
    "\n",
    "Our visualization makes it easy to compare metrics across different network types at a glance."
   ]
  },
  {
   "cell_type": "code",
   "execution_count": null,
   "id": "b13bc294",
   "metadata": {},
   "outputs": [],
   "source": [
    "# Create a direct comparison of network metrics for different network types\n",
    "include(\"src/plotting.jl\")\n",
    "\n",
    "# Use the new function to generate a comparison plot\n",
    "metrics_plot = plot_network_metrics_comparison(\n",
    "    network_types=[:random, :smallworld, :preferential],\n",
    "    mean_degree=4\n",
    ")\n",
    "\n",
    "# Display the plot\n",
    "display(metrics_plot)"
   ]
  },
  {
   "cell_type": "markdown",
   "id": "ebbd6704",
   "metadata": {},
   "source": [
    "<details>\n",
    "<summary><strong>Spoiler: Observations from Network Metrics Comparison (click to expand)</strong></summary>\n",
    "\n",
    "## Observations from Network Metrics Comparison\n",
    "\n",
    "The bar chart reveals key structural differences between network types:\n",
    "\n",
    "### Random Networks\n",
    "- Show uniform connectivity patterns\n",
    "- Low clustering coefficient\n",
    "- Neutral assortativity (close to zero)\n",
    "\n",
    "### Small-World Networks\n",
    "- Significantly higher clustering coefficient\n",
    "- Often moderate assortativity\n",
    "- Higher closeness centrality due to \"shortcut\" connections\n",
    "\n",
    "### Preferential Attachment Networks\n",
    "- Often show negative assortativity (hubs connect to low-degree nodes)\n",
    "- Highly skewed centrality distributions\n",
    "- Scale-free structure with influential hubs\n",
    "\n",
    "These structural differences help explain why epidemics spread differently across various network types. For example, hub nodes in preferential attachment networks can become superspreaders, while high clustering in small-world networks can initially slow spread but ultimately create efficient transmission pathways through shortcuts.\n",
    "\n",
    "</details>"
   ]
  },
  {
   "cell_type": "markdown",
   "id": "46735553",
   "metadata": {},
   "source": [
    "## Centrality Distribution Comparison\n",
    "\n",
    "The boxplots below show the distribution of centrality measures across different network types:\n",
    "\n",
    "### Centrality Measures:\n",
    "- **Degree centrality**: Proportion of nodes directly connected to a node\n",
    "- **Betweenness centrality**: Fraction of shortest paths passing through a node\n",
    "- **Closeness centrality**: Inverse of the sum of shortest distances to all other nodes\n",
    "- **Eigenvector centrality**: Measures influence based on connections to other influential nodes\n",
    "\n",
    "The visualization highlights:\n",
    "1. **Preferential attachment networks** show the highest variability in centrality measures, particularly in closeness centrality\n",
    "2. **Small-world networks** have moderate closeness centrality values with less variation\n",
    "3. **Random networks** generally show the lowest variability across centrality measures\n",
    "\n",
    "These differences in centrality distributions directly impact how diseases spread through networks. Nodes with high centrality often serve as key transmission points in epidemics."
   ]
  },
  {
   "cell_type": "code",
   "execution_count": null,
   "id": "e775ccaa",
   "metadata": {},
   "outputs": [],
   "source": [
    "include(\"src/plotting.jl\")\n",
    "\n",
    "centrality_comparison = plot_centrality_comparison(;\n",
    "    network_types=[:random, :smallworld, :preferential], \n",
    "    mean_degree=4,\n",
    "    link_axes=true  # Enable linked y-axes for direct comparison\n",
    ")\n",
    "display(centrality_comparison)"
   ]
  }
 ],
 "metadata": {
  "kernelspec": {
   "display_name": "Julia 1.11.4",
   "language": "julia",
   "name": "julia-1.11"
  },
  "language_info": {
   "file_extension": ".jl",
   "mimetype": "application/julia",
   "name": "julia",
   "version": "1.11.4"
  }
 },
 "nbformat": 4,
 "nbformat_minor": 5
}
