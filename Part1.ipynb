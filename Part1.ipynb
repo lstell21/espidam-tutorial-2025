{
 "cells": [
  {
   "cell_type": "markdown",
   "id": "ba32e74e-fb64-4ec9-a855-1c28444866b0",
   "metadata": {},
   "source": [
    "## *Types of networks, SIR epidemic on different networks (Part 1)*"
   ]
  },
  {
   "cell_type": "markdown",
   "id": "44ae1998-06fc-45de-ab84-931ab598a431",
   "metadata": {},
   "source": [
    "The aim of this tutorial is to investigate what the influence of network structure is on the spread of an epidemic. We will look at various types of networks and an agent based SIR model running on these networks. We will compare network structure in terms of degree distribution and centrality measures. Epidemic outcome will be measured as final size, duration, and peak prevalence of the outbreak."
   ]
  },
  {
   "cell_type": "markdown",
   "id": "5eefae52-126a-4d5c-a299-51be9fdffcc3",
   "metadata": {},
   "source": [
    "First we need to set up a directory structure to store data, output, and figures."
   ]
  },
  {
   "cell_type": "code",
   "execution_count": 26,
   "id": "b6d7476e-b269-4431-8ae8-59e7c13c9587",
   "metadata": {},
   "outputs": [],
   "source": [
    "#Navigate to the directory containing this file\n",
    "    cd(@__DIR__)\n",
    "\n",
    "# Create directories if they don't exist\n",
    "    if !isdir(\"data\")\n",
    "        mkdir(\"data\")\n",
    "    end\n",
    "    if !isdir(\"figures\")\n",
    "        mkdir(\"figures\")\n",
    "    end\n",
    "    if !isdir(\"output\")\n",
    "        mkdir(\"output\")\n",
    "    end"
   ]
  },
  {
   "cell_type": "markdown",
   "id": "8cacc183-5149-4cc9-a40a-ae9a1e6ddfd2",
   "metadata": {},
   "source": [
    "Then we activate the current directory as the environment for Pkg. We import the packages we will need to run the model. This might take some time."
   ]
  },
  {
   "cell_type": "code",
   "execution_count": 27,
   "id": "1f8c4f71-4999-4893-9bf4-edc6ff1159b5",
   "metadata": {},
   "outputs": [
    {
     "name": "stderr",
     "output_type": "stream",
     "text": [
      "\u001b[32m\u001b[1m  Activating\u001b[22m\u001b[39m project at `c:\\Users\\leost\\julia-workspace\\espidam-tutorial-2025`\n"
     ]
    }
   ],
   "source": [
    " # Import the Pkg module, activate the current directory as the environment for Pkg, instantiate the environment\n",
    "    using Pkg\n",
    "    Pkg.activate(@__DIR__)\n",
    "    Pkg.instantiate()\n",
    "\n",
    "  # Import the necessary packages\n",
    "    using Agents, Graphs, Random, Plots, DataFrames, CSV, Statistics, StatsBase, Distributions, Measures"
   ]
  },
  {
   "cell_type": "markdown",
   "id": "9fc6dcff-3a02-491f-9002-5e49e388c5e2",
   "metadata": {},
   "source": [
    "A degree distribution to be used with the configuration model is read from a csv file. The file needs to have a number of rows that equals the population size of the network. For every node an integer degree is given. "
   ]
  },
  {
   "cell_type": "code",
   "execution_count": 28,
   "id": "a2bc52fb-b0a6-4221-a9ea-2605c8769123",
   "metadata": {},
   "outputs": [
    {
     "name": "stdout",
     "output_type": "stream",
     "text": [
      "First 10 entries of the degree distribution:\n"
     ]
    },
    {
     "data": {
      "text/html": [
       "<div><div style = \"float: left;\"><span>10×1 DataFrame</span></div><div style = \"clear: both;\"></div></div><div class = \"data-frame\" style = \"overflow-x: scroll;\"><table class = \"data-frame\" style = \"margin-bottom: 6px;\"><thead><tr class = \"header\"><th class = \"rowNumber\" style = \"font-weight: bold; text-align: right;\">Row</th><th style = \"text-align: left;\">Column1</th></tr><tr class = \"subheader headerLastRow\"><th class = \"rowNumber\" style = \"font-weight: bold; text-align: right;\"></th><th title = \"Int64\" style = \"text-align: left;\">Int64</th></tr></thead><tbody><tr><td class = \"rowNumber\" style = \"font-weight: bold; text-align: right;\">1</td><td style = \"text-align: right;\">6</td></tr><tr><td class = \"rowNumber\" style = \"font-weight: bold; text-align: right;\">2</td><td style = \"text-align: right;\">16</td></tr><tr><td class = \"rowNumber\" style = \"font-weight: bold; text-align: right;\">3</td><td style = \"text-align: right;\">9</td></tr><tr><td class = \"rowNumber\" style = \"font-weight: bold; text-align: right;\">4</td><td style = \"text-align: right;\">5</td></tr><tr><td class = \"rowNumber\" style = \"font-weight: bold; text-align: right;\">5</td><td style = \"text-align: right;\">3</td></tr><tr><td class = \"rowNumber\" style = \"font-weight: bold; text-align: right;\">6</td><td style = \"text-align: right;\">5</td></tr><tr><td class = \"rowNumber\" style = \"font-weight: bold; text-align: right;\">7</td><td style = \"text-align: right;\">3</td></tr><tr><td class = \"rowNumber\" style = \"font-weight: bold; text-align: right;\">8</td><td style = \"text-align: right;\">5</td></tr><tr><td class = \"rowNumber\" style = \"font-weight: bold; text-align: right;\">9</td><td style = \"text-align: right;\">3</td></tr><tr><td class = \"rowNumber\" style = \"font-weight: bold; text-align: right;\">10</td><td style = \"text-align: right;\">9</td></tr></tbody></table></div>"
      ],
      "text/latex": [
       "\\begin{tabular}{r|c}\n",
       "\t& Column1\\\\\n",
       "\t\\hline\n",
       "\t& Int64\\\\\n",
       "\t\\hline\n",
       "\t1 & 6 \\\\\n",
       "\t2 & 16 \\\\\n",
       "\t3 & 9 \\\\\n",
       "\t4 & 5 \\\\\n",
       "\t5 & 3 \\\\\n",
       "\t6 & 5 \\\\\n",
       "\t7 & 3 \\\\\n",
       "\t8 & 5 \\\\\n",
       "\t9 & 3 \\\\\n",
       "\t10 & 9 \\\\\n",
       "\\end{tabular}\n"
      ],
      "text/plain": [
       "\u001b[1m10×1 DataFrame\u001b[0m\n",
       "\u001b[1m Row \u001b[0m│\u001b[1m Column1 \u001b[0m\n",
       "     │\u001b[90m Int64   \u001b[0m\n",
       "─────┼─────────\n",
       "   1 │       6\n",
       "   2 │      16\n",
       "   3 │       9\n",
       "   4 │       5\n",
       "   5 │       3\n",
       "   6 │       5\n",
       "   7 │       3\n",
       "   8 │       5\n",
       "   9 │       3\n",
       "  10 │       9"
      ]
     },
     "metadata": {},
     "output_type": "display_data"
    }
   ],
   "source": [
    " \n",
    "    # Read in deg_dist.csv to use for the random_configuration_model\n",
    "    degrees = CSV.read(\"deg_dist.csv\", DataFrame, header=false)\n",
    "\n",
    "    # Display the first 10 entries of the degree distribution\n",
    "    println(\"First 10 entries of the degree distribution:\")\n",
    "    first(degrees, 10)"
   ]
  },
  {
   "cell_type": "markdown",
   "id": "c4df6ed7-df5d-4e35-afd6-e13b38364b31",
   "metadata": {},
   "source": [
    "Next, the model is defined. The code is provided in various source files that are included. In the source file create_graph.jl a network is set up with a given number of nodes (default size 1000) and a given network structure. Then the structure of the agents is defined. An agent is characterized by its infection status (susceptible, infected, or recovered), by its infection age (time since infection), and by risk category (low or high). The source file initialize.jl describes the initialization procedure of the model, and the agent_step.jl describes events that are performed per time step. Then, in model_step! the numbers of individuals in disease states are summed up."
   ]
  },
  {
   "cell_type": "code",
   "execution_count": 29,
   "id": "2278c002-965a-4d9c-a381-8b2a7c267c5e",
   "metadata": {},
   "outputs": [
    {
     "data": {
      "text/plain": [
       "model_step! (generic function with 1 method)"
      ]
     },
     "metadata": {},
     "output_type": "display_data"
    }
   ],
   "source": [
    "\n",
    "include(\"src/create_graph.jl\")\n",
    "\n",
    "# Agent creation: agents of type Person and properties status, days_infected and risk\n",
    "@agent struct Person(GraphAgent)\n",
    "    status::Symbol = :S #((S)usceptible, (I)nfected, (R)ecovered)\n",
    "    days_infected::Int = 0 # number of days since infection\n",
    "    risk::Symbol = :high # something to differentiate agents (here, high and low risk)\n",
    "end\n",
    "\n",
    "include(\"src/initialize.jl\")\n",
    "include(\"src/agent_step.jl\")\n",
    "\n",
    "# Model step: keep track of the infection numbers\n",
    "function model_step!(model::ABM)\n",
    "    model.susceptible_count = sum([model[i].status == :S for i in 1:nv(model.graph)])\n",
    "    model.infected_count = sum([model[i].status == :I for i in 1:nv(model.graph)])\n",
    "    model.recovered_count = sum([model[i].status == :R for i in 1:nv(model.graph)])\n",
    "end"
   ]
  },
  {
   "cell_type": "markdown",
   "id": "35e48f74-b5eb-4924-bb8b-87a45a41fc9f",
   "metadata": {},
   "source": [
    "Now let's start with setting up the model for our investigation. In the initialization function, we can choose what network type we want to use, where in the network the infection is seeded, what proportion of the population is high risk, and what the mean degree of the network is."
   ]
  },
  {
   "cell_type": "code",
   "execution_count": 30,
   "id": "a3de80d0-2bf7-41c3-bf47-b585ae639a62",
   "metadata": {},
   "outputs": [
    {
     "data": {
      "text/plain": [
       "StandardABM with 1000 agents of type Person\n",
       " agents container: Dict\n",
       " space: GraphSpace with 1000 positions and 988 edges\n",
       " scheduler: fastest\n",
       " properties: days_to_recovered, trans_prob, mean_degree, high_risk, susceptible_count, fraction_high_risk, infected_count, recovered_count, graph, dispersion, n_nodes, patient_zero, network_type"
      ]
     },
     "metadata": {},
     "output_type": "display_data"
    }
   ],
   "source": [
    "# Initialization: initialize the model with the chosen parameters: network_type, patient_zero, high_risk, mean_degree\n",
    "model = initialize(; network_type=:random, patient_zero=:random, mean_degree=2)"
   ]
  },
  {
   "cell_type": "markdown",
   "id": "8ef944d2",
   "metadata": {},
   "source": [
    "## Network Analysis\n",
    "\n",
    "The constructed network can be analyzed using our `analyze_graph` function, which returns a comprehensive set of network metrics. The function calculates:\n",
    "\n",
    "- **Basic metrics**: density, mean degree, clustering coefficient, assortativity\n",
    "- **Component analysis**: number and sizes of connected components\n",
    "- **Centrality measures**: degree, betweenness, closeness, and eigenvector centrality\n",
    "- **Structural properties**: degree distribution, maximal cliques, diameter\n",
    "\n",
    "The results are organized in a dictionary with easily accessible components for further analysis and visualization."
   ]
  },
  {
   "cell_type": "code",
   "execution_count": 32,
   "id": "22293955-eac6-44cf-9b6a-f05d0005d6de",
   "metadata": {},
   "outputs": [
    {
     "data": {
      "text/plain": [
       "\"Graph Summary Metrics\""
      ]
     },
     "metadata": {},
     "output_type": "display_data"
    },
    {
     "data": {
      "text/html": [
       "<div><div style = \"float: left;\"><span>7×2 DataFrame</span></div><div style = \"clear: both;\"></div></div><div class = \"data-frame\" style = \"overflow-x: scroll;\"><table class = \"data-frame\" style = \"margin-bottom: 6px;\"><thead><tr class = \"header\"><th class = \"rowNumber\" style = \"font-weight: bold; text-align: right;\">Row</th><th style = \"text-align: left;\">metric</th><th style = \"text-align: left;\">value</th></tr><tr class = \"subheader headerLastRow\"><th class = \"rowNumber\" style = \"font-weight: bold; text-align: right;\"></th><th title = \"String\" style = \"text-align: left;\">String</th><th title = \"Any\" style = \"text-align: left;\">Any</th></tr></thead><tbody><tr><td class = \"rowNumber\" style = \"font-weight: bold; text-align: right;\">1</td><td style = \"text-align: left;\">Mean Degree</td><td style = \"text-align: left;\">1.976</td></tr><tr><td class = \"rowNumber\" style = \"font-weight: bold; text-align: right;\">2</td><td style = \"text-align: left;\">Density</td><td style = \"text-align: left;\">0.00197798</td></tr><tr><td class = \"rowNumber\" style = \"font-weight: bold; text-align: right;\">3</td><td style = \"text-align: left;\">Clustering Coefficient</td><td style = \"text-align: left;\">0.00152749</td></tr><tr><td class = \"rowNumber\" style = \"font-weight: bold; text-align: right;\">4</td><td style = \"text-align: left;\">Assortativity</td><td style = \"text-align: left;\">0.000460549</td></tr><tr><td class = \"rowNumber\" style = \"font-weight: bold; text-align: right;\">5</td><td style = \"text-align: left;\">Diameter</td><td style = \"text-align: left;\">Graph is not connected</td></tr><tr><td class = \"rowNumber\" style = \"font-weight: bold; text-align: right;\">6</td><td style = \"text-align: left;\">Number of Connected Components</td><td style = \"text-align: left;\">174</td></tr><tr><td class = \"rowNumber\" style = \"font-weight: bold; text-align: right;\">7</td><td style = \"text-align: left;\">Max Component Length</td><td style = \"text-align: left;\">793</td></tr></tbody></table></div>"
      ],
      "text/latex": [
       "\\begin{tabular}{r|cc}\n",
       "\t& metric & value\\\\\n",
       "\t\\hline\n",
       "\t& String & Any\\\\\n",
       "\t\\hline\n",
       "\t1 & Mean Degree & 1.976 \\\\\n",
       "\t2 & Density & 0.00197798 \\\\\n",
       "\t3 & Clustering Coefficient & 0.00152749 \\\\\n",
       "\t4 & Assortativity & 0.000460549 \\\\\n",
       "\t5 & Diameter & Graph is not connected \\\\\n",
       "\t6 & Number of Connected Components & 174 \\\\\n",
       "\t7 & Max Component Length & 793 \\\\\n",
       "\\end{tabular}\n"
      ],
      "text/plain": [
       "\u001b[1m7×2 DataFrame\u001b[0m\n",
       "\u001b[1m Row \u001b[0m│\u001b[1m metric                         \u001b[0m\u001b[1m value                  \u001b[0m\n",
       "     │\u001b[90m String                         \u001b[0m\u001b[90m Any                    \u001b[0m\n",
       "─────┼────────────────────────────────────────────────────────\n",
       "   1 │ Mean Degree                     1.976\n",
       "   2 │ Density                         0.00197798\n",
       "   3 │ Clustering Coefficient          0.00152749\n",
       "   4 │ Assortativity                   0.000460549\n",
       "   5 │ Diameter                        Graph is not connected\n",
       "   6 │ Number of Connected Components  174\n",
       "   7 │ Max Component Length            793"
      ]
     },
     "metadata": {},
     "output_type": "display_data"
    },
    {
     "data": {
      "text/plain": [
       "\"Centrality Measures Statistics\""
      ]
     },
     "metadata": {},
     "output_type": "display_data"
    },
    {
     "data": {
      "text/html": [
       "<div><div style = \"float: left;\"><span>4×7 DataFrame</span></div><div style = \"clear: both;\"></div></div><div class = \"data-frame\" style = \"overflow-x: scroll;\"><table class = \"data-frame\" style = \"margin-bottom: 6px;\"><thead><tr class = \"header\"><th class = \"rowNumber\" style = \"font-weight: bold; text-align: right;\">Row</th><th style = \"text-align: left;\">variable</th><th style = \"text-align: left;\">mean</th><th style = \"text-align: left;\">min</th><th style = \"text-align: left;\">median</th><th style = \"text-align: left;\">max</th><th style = \"text-align: left;\">nmissing</th><th style = \"text-align: left;\">eltype</th></tr><tr class = \"subheader headerLastRow\"><th class = \"rowNumber\" style = \"font-weight: bold; text-align: right;\"></th><th title = \"Symbol\" style = \"text-align: left;\">Symbol</th><th title = \"Float64\" style = \"text-align: left;\">Float64</th><th title = \"Float64\" style = \"text-align: left;\">Float64</th><th title = \"Float64\" style = \"text-align: left;\">Float64</th><th title = \"Float64\" style = \"text-align: left;\">Float64</th><th title = \"Int64\" style = \"text-align: left;\">Int64</th><th title = \"DataType\" style = \"text-align: left;\">DataType</th></tr></thead><tbody><tr><td class = \"rowNumber\" style = \"font-weight: bold; text-align: right;\">1</td><td style = \"text-align: left;\">degree_centrality</td><td style = \"text-align: right;\">0.00197798</td><td style = \"text-align: right;\">0.0</td><td style = \"text-align: right;\">0.002002</td><td style = \"text-align: right;\">0.00700701</td><td style = \"text-align: right;\">0</td><td style = \"text-align: left;\">Float64</td></tr><tr><td class = \"rowNumber\" style = \"font-weight: bold; text-align: right;\">2</td><td style = \"text-align: left;\">betweenness_centrality</td><td style = \"text-align: right;\">0.00503555</td><td style = \"text-align: right;\">0.0</td><td style = \"text-align: right;\">0.00166072</td><td style = \"text-align: right;\">0.0419485</td><td style = \"text-align: right;\">0</td><td style = \"text-align: left;\">Float64</td></tr><tr><td class = \"rowNumber\" style = \"font-weight: bold; text-align: right;\">3</td><td style = \"text-align: left;\">closeness_centrality</td><td style = \"text-align: right;\">0.0713634</td><td style = \"text-align: right;\">0.0</td><td style = \"text-align: right;\">0.0862548</td><td style = \"text-align: right;\">0.118694</td><td style = \"text-align: right;\">0</td><td style = \"text-align: left;\">Float64</td></tr><tr><td class = \"rowNumber\" style = \"font-weight: bold; text-align: right;\">4</td><td style = \"text-align: left;\">eigenvector_centrality</td><td style = \"text-align: right;\">0.0171674</td><td style = \"text-align: right;\">1.48575e-13</td><td style = \"text-align: right;\">0.00717348</td><td style = \"text-align: right;\">0.212361</td><td style = \"text-align: right;\">0</td><td style = \"text-align: left;\">Float64</td></tr></tbody></table></div>"
      ],
      "text/latex": [
       "\\begin{tabular}{r|ccccccc}\n",
       "\t& variable & mean & min & median & max & nmissing & \\\\\n",
       "\t\\hline\n",
       "\t& Symbol & Float64 & Float64 & Float64 & Float64 & Int64 & \\\\\n",
       "\t\\hline\n",
       "\t1 & degree\\_centrality & 0.00197798 & 0.0 & 0.002002 & 0.00700701 & 0 & $\\dots$ \\\\\n",
       "\t2 & betweenness\\_centrality & 0.00503555 & 0.0 & 0.00166072 & 0.0419485 & 0 & $\\dots$ \\\\\n",
       "\t3 & closeness\\_centrality & 0.0713634 & 0.0 & 0.0862548 & 0.118694 & 0 & $\\dots$ \\\\\n",
       "\t4 & eigenvector\\_centrality & 0.0171674 & 1.48575e-13 & 0.00717348 & 0.212361 & 0 & $\\dots$ \\\\\n",
       "\\end{tabular}\n"
      ],
      "text/plain": [
       "\u001b[1m4×7 DataFrame\u001b[0m\n",
       "\u001b[1m Row \u001b[0m│\u001b[1m variable               \u001b[0m\u001b[1m mean       \u001b[0m\u001b[1m min         \u001b[0m\u001b[1m median     \u001b[0m\u001b[1m max       \u001b[0m ⋯\n",
       "     │\u001b[90m Symbol                 \u001b[0m\u001b[90m Float64    \u001b[0m\u001b[90m Float64     \u001b[0m\u001b[90m Float64    \u001b[0m\u001b[90m Float64   \u001b[0m ⋯\n",
       "─────┼──────────────────────────────────────────────────────────────────────────\n",
       "   1 │ degree_centrality       0.00197798  0.0          0.002002    0.00700701 ⋯\n",
       "   2 │ betweenness_centrality  0.00503555  0.0          0.00166072  0.0419485\n",
       "   3 │ closeness_centrality    0.0713634   0.0          0.0862548   0.118694\n",
       "   4 │ eigenvector_centrality  0.0171674   1.48575e-13  0.00717348  0.212361\n",
       "\u001b[36m                                                               2 columns omitted\u001b[0m"
      ]
     },
     "metadata": {},
     "output_type": "display_data"
    },
    {
     "data": {
      "text/plain": [
       "\"Component Size Summary\""
      ]
     },
     "metadata": {},
     "output_type": "display_data"
    },
    {
     "data": {
      "text/html": [
       "<div><div style = \"float: left;\"><span>6×2 DataFrame</span></div><div style = \"clear: both;\"></div></div><div class = \"data-frame\" style = \"overflow-x: scroll;\"><table class = \"data-frame\" style = \"margin-bottom: 6px;\"><thead><tr class = \"header\"><th class = \"rowNumber\" style = \"font-weight: bold; text-align: right;\">Row</th><th style = \"text-align: left;\">component_size</th><th style = \"text-align: left;\">count</th></tr><tr class = \"subheader headerLastRow\"><th class = \"rowNumber\" style = \"font-weight: bold; text-align: right;\"></th><th title = \"Int64\" style = \"text-align: left;\">Int64</th><th title = \"Int64\" style = \"text-align: left;\">Int64</th></tr></thead><tbody><tr><td class = \"rowNumber\" style = \"font-weight: bold; text-align: right;\">1</td><td style = \"text-align: right;\">1</td><td style = \"text-align: right;\">148</td></tr><tr><td class = \"rowNumber\" style = \"font-weight: bold; text-align: right;\">2</td><td style = \"text-align: right;\">2</td><td style = \"text-align: right;\">20</td></tr><tr><td class = \"rowNumber\" style = \"font-weight: bold; text-align: right;\">3</td><td style = \"text-align: right;\">3</td><td style = \"text-align: right;\">3</td></tr><tr><td class = \"rowNumber\" style = \"font-weight: bold; text-align: right;\">4</td><td style = \"text-align: right;\">4</td><td style = \"text-align: right;\">1</td></tr><tr><td class = \"rowNumber\" style = \"font-weight: bold; text-align: right;\">5</td><td style = \"text-align: right;\">6</td><td style = \"text-align: right;\">1</td></tr><tr><td class = \"rowNumber\" style = \"font-weight: bold; text-align: right;\">6</td><td style = \"text-align: right;\">793</td><td style = \"text-align: right;\">1</td></tr></tbody></table></div>"
      ],
      "text/latex": [
       "\\begin{tabular}{r|cc}\n",
       "\t& component\\_size & count\\\\\n",
       "\t\\hline\n",
       "\t& Int64 & Int64\\\\\n",
       "\t\\hline\n",
       "\t1 & 1 & 148 \\\\\n",
       "\t2 & 2 & 20 \\\\\n",
       "\t3 & 3 & 3 \\\\\n",
       "\t4 & 4 & 1 \\\\\n",
       "\t5 & 6 & 1 \\\\\n",
       "\t6 & 793 & 1 \\\\\n",
       "\\end{tabular}\n"
      ],
      "text/plain": [
       "\u001b[1m6×2 DataFrame\u001b[0m\n",
       "\u001b[1m Row \u001b[0m│\u001b[1m component_size \u001b[0m\u001b[1m count \u001b[0m\n",
       "     │\u001b[90m Int64          \u001b[0m\u001b[90m Int64 \u001b[0m\n",
       "─────┼───────────────────────\n",
       "   1 │              1    148\n",
       "   2 │              2     20\n",
       "   3 │              3      3\n",
       "   4 │              4      1\n",
       "   5 │              6      1\n",
       "   6 │            793      1"
      ]
     },
     "metadata": {},
     "output_type": "display_data"
    },
    {
     "data": {
      "text/plain": [
       "\"data/graph_summary_random_mdeg_2.csv\""
      ]
     },
     "metadata": {},
     "output_type": "display_data"
    }
   ],
   "source": [
    "include(\"src/analyze_graph.jl\")\n",
    "\n",
    "# Analyze the graph\n",
    "graph_analysis = analyze_graph(model.graph)\n",
    "\n",
    "# Display the analysis results\n",
    "analysis_display = print_graph_analysis(graph_analysis)\n",
    "\n",
    "# Display each component of the analysis\n",
    "display(\"Graph Summary Metrics\")\n",
    "display(analysis_display.summary)\n",
    "\n",
    "display(\"Centrality Measures Statistics\")\n",
    "display(analysis_display.centrality)\n",
    "\n",
    "display(\"Component Size Summary\")\n",
    "display(analysis_display.component_summary)\n",
    "\n",
    "# Save the centrality measures to a CSV file for further analysis\n",
    "CSV.write(\"data/centrality_$(model.network_type)_mdeg_$(model.mean_degree).csv\", graph_analysis[\"centrality\"])\n",
    "\n",
    "# Save summary metrics to a CSV file\n",
    "CSV.write(\"data/graph_summary_$(model.network_type)_mdeg_$(model.mean_degree).csv\", graph_analysis[\"summary\"])"
   ]
  },
  {
   "cell_type": "markdown",
   "id": "284a86e9",
   "metadata": {},
   "source": [
    "### Network Visualization and Analysis\n",
    "\n",
    "We can use the results from our network analysis to create visualizations that help us understand the structure of the network. Let's look at the degree distribution and explore how centrality measures relate to epidemic dynamics."
   ]
  },
  {
   "cell_type": "code",
   "execution_count": null,
   "id": "951e5992-73c5-419d-96e5-a834931f95c5",
   "metadata": {},
   "outputs": [],
   "source": [
    "include(\"src/plotting.jl\")\n",
    "\n",
    "# Plot the degree distribution using our stored degree distribution data\n",
    "plotdegdist = plot_degree_distribution(graph_analysis[\"degree_distribution\"]; network_type=model.network_type)\n",
    "display(plotdegdist)\n",
    "savefig(plotdegdist, \"figures/plotdegdist_$(model.network_type)_mdeg_$(model.mean_degree).pdf\")\n",
    "\n",
    "# Plot centrality distribution\n",
    "p1 = histogram(graph_analysis[\"centrality\"].degree_centrality, title=\"Degree Centrality\", legend=false)\n",
    "p2 = histogram(graph_analysis[\"centrality\"].betweenness_centrality, title=\"Betweenness Centrality\", legend=false)\n",
    "p3 = histogram(graph_analysis[\"centrality\"].closeness_centrality, title=\"Closeness Centrality\", legend=false)\n",
    "p4 = histogram(graph_analysis[\"centrality\"].eigenvector_centrality, title=\"Eigenvector Centrality\", legend=false)\n",
    "\n",
    "centrality_plot = plot(p1, p2, p3, p4, layout=(2,2), size=(800, 600))\n",
    "display(centrality_plot)"
   ]
  },
  {
   "cell_type": "code",
   "execution_count": null,
   "id": "77830968-6d08-4dbc-a5f5-27adaf5128c9",
   "metadata": {
    "scrolled": true
   },
   "outputs": [],
   "source": [
    "# specify \"adata\" (agent data to collect) and \"mdata\" (model data to collect)\n",
    "adata = [:status]\n",
    "mdata = [:susceptible_count, :infected_count, :recovered_count]\n",
    "\n",
    "adf, mdf = run!(model, 100; adata, mdata)"
   ]
  },
  {
   "cell_type": "code",
   "execution_count": null,
   "id": "64902c06-f931-40b3-be82-8ea8e3df4baa",
   "metadata": {},
   "outputs": [],
   "source": [
    "plotdynamics = plot_epidemic_trajectories(mdf)\n",
    "display(plotdynamics)\n",
    "savefig(plotdynamics, \"figures/plotdynamics_$(model.network_type)_mdeg_$(model.mean_degree)_nn_$(model.n_nodes)_disp_$(model.dispersion)_pat0_$(model.patient_zero)_hirisk_$(model.high_risk)_hr_frac_$(model.fraction_high_risk)_trans_$(model.trans_prob).pdf\")\n"
   ]
  },
  {
   "cell_type": "markdown",
   "id": "86b4ae4b",
   "metadata": {},
   "source": [
    "## Single Run Visualization\n",
    "\n",
    "Let's run a single simulation and inspect both the epidemic dynamics plot and the degree distribution plot. The `plot_single_run` function returns both plots and a combined plot, making it easy to examine them together."
   ]
  },
  {
   "cell_type": "code",
   "execution_count": null,
   "id": "0614d794",
   "metadata": {},
   "outputs": [],
   "source": [
    "# Get both plots from plot_single_run\n",
    "dynamics_plot, degdist_plot, combined_plot = plot_single_run(; network_type=:random, mean_degree=2)\n",
    "\n",
    "display(combined_plot)"
   ]
  },
  {
   "cell_type": "code",
   "execution_count": null,
   "id": "426ed11c-5b27-451f-9a2f-0fe54514e64d",
   "metadata": {},
   "outputs": [],
   "source": [
    "include(\"src/run_simulations.jl\")\n",
    "# Run the simulation multiple times with different seeds (100 times), output results to file and plot\n",
    "result_plot = run_and_plot(; plot_type=:sfr, network_type=:preferentialattachment, patient_zero=:maxdegree, mean_degree=2)\n",
    "display(result_plot)"
   ]
  }
 ],
 "metadata": {
  "kernelspec": {
   "display_name": "Julia 1.11.5",
   "language": "julia",
   "name": "julia-1.11"
  },
  "language_info": {
   "file_extension": ".jl",
   "mimetype": "application/julia",
   "name": "julia",
   "version": "1.11.5"
  }
 },
 "nbformat": 4,
 "nbformat_minor": 5
}
